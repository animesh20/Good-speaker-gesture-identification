{
 "cells": [
  {
   "cell_type": "code",
   "execution_count": 6,
   "metadata": {},
   "outputs": [],
   "source": [
    "import csv\n",
    "import numpy as np\n",
    "from sklearn.feature_selection import SelectKBest\n",
    "from sklearn.feature_selection import mutual_info_regression\n",
    "import transposer"
   ]
  },
  {
   "cell_type": "markdown",
   "metadata": {},
   "source": [
    "# Carol Video"
   ]
  },
  {
   "cell_type": "code",
   "execution_count": 7,
   "metadata": {},
   "outputs": [],
   "source": [
    "with open('carol_audio_features.csv', 'rb') as f:\n",
    "    reader = csv.reader(f)\n",
    "    your_list = list(reader)\n",
    "    \n",
    "for i in xrange(0,len(your_list)):\n",
    "    your_list[i] = map(float,your_list[i])\n",
    "data = np.array(your_list)"
   ]
  },
  {
   "cell_type": "code",
   "execution_count": 8,
   "metadata": {},
   "outputs": [
    {
     "name": "stdout",
     "output_type": "stream",
     "text": [
      "(6373, 620)\n",
      "(620, 6373)\n"
     ]
    }
   ],
   "source": [
    "print(data.shape)\n",
    "\n",
    "data = np.transpose(data)\n",
    "\n",
    "print(data.shape)"
   ]
  },
  {
   "cell_type": "code",
   "execution_count": 9,
   "metadata": {},
   "outputs": [
    {
     "name": "stdout",
     "output_type": "stream",
     "text": [
      "(620, 1)\n"
     ]
    }
   ],
   "source": [
    "with open('carol_eyeblink.csv', 'rb') as f:\n",
    "    reader = csv.reader(f)\n",
    "    your_list = list(reader)\n",
    "    \n",
    "for i in xrange(0,len(your_list)):\n",
    "    your_list[i] = map(float,your_list[i])\n",
    "labels = np.array(your_list)\n",
    "\n",
    "#labels = labels.reshape((len(labels),))\n",
    "\n",
    "print(labels.shape)"
   ]
  },
  {
   "cell_type": "code",
   "execution_count": 10,
   "metadata": {},
   "outputs": [
    {
     "name": "stdout",
     "output_type": "stream",
     "text": [
      "(620, 10)\n"
     ]
    }
   ],
   "source": [
    "nf = 10\n",
    "\n",
    "#labels = np.tile(labels,(nf,1))\n",
    "#labels = np.transpose(labels)\n",
    "\n",
    "selector = SelectKBest(mutual_info_regression, k=nf)\n",
    "\n",
    "data_new = selector.fit_transform(data, labels)\n",
    "\n",
    "print(data_new.shape)\n",
    "\n",
    "index = selector.get_support(indices=True)"
   ]
  },
  {
   "cell_type": "code",
   "execution_count": 11,
   "metadata": {},
   "outputs": [
    {
     "name": "stdout",
     "output_type": "stream",
     "text": [
      "6373\n"
     ]
    }
   ],
   "source": [
    "with open('feature_names.csv', 'rb') as f:\n",
    "    reader = csv.reader(f)\n",
    "    your_list = list(reader)\n",
    "    \n",
    "print(len(your_list))"
   ]
  },
  {
   "cell_type": "code",
   "execution_count": 12,
   "metadata": {},
   "outputs": [
    {
     "data": {
      "text/plain": [
       "[['audspec_lengthL1norm_sma_quartile2'],\n",
       " ['pcm_RMSenergy_sma_percentile99.0'],\n",
       " ['pcm_RMSenergy_sma_pctlrange0-1'],\n",
       " ['audSpec_Rfilt_sma[20]_percentile1.0'],\n",
       " ['mfcc_sma[1]_percentile99.0'],\n",
       " ['audSpec_Rfilt_sma_de[23]_percentile99.0'],\n",
       " ['audSpec_Rfilt_sma[6]_meanRisingSlope'],\n",
       " ['pcm_fftMag_spectralRollOff50.0_sma_minRangeRel'],\n",
       " ['audSpec_Rfilt_sma_de[21]_peakMeanAbs'],\n",
       " ['audSpec_Rfilt_sma_de[21]_peakMeanMeanDist']]"
      ]
     },
     "execution_count": 12,
     "metadata": {},
     "output_type": "execute_result"
    }
   ],
   "source": [
    "selected_features = [your_list[x] for x in index]\n",
    "\n",
    "selected_features"
   ]
  },
  {
   "cell_type": "code",
   "execution_count": 13,
   "metadata": {},
   "outputs": [],
   "source": [
    "#subtracting mean\n",
    "data_new -= np.mean(data_new, axis = 0)\n",
    "\n",
    "#dividing by standard deviation\n",
    "data_new /= np.std(data_new, axis = 0)"
   ]
  },
  {
   "cell_type": "code",
   "execution_count": 14,
   "metadata": {},
   "outputs": [
    {
     "data": {
      "text/plain": [
       "(620, 10)"
      ]
     },
     "execution_count": 14,
     "metadata": {},
     "output_type": "execute_result"
    }
   ],
   "source": [
    "filename = 'carol_audio_'+str(nf)+'.csv'\n",
    "\n",
    "np.savetxt(filename, data_new, delimiter=\",\")\n",
    "\n",
    "data_new.shape"
   ]
  },
  {
   "cell_type": "code",
   "execution_count": 15,
   "metadata": {},
   "outputs": [
    {
     "name": "stdout",
     "output_type": "stream",
     "text": [
      "(620, 20)\n"
     ]
    },
    {
     "data": {
      "text/plain": [
       "[['audspec_lengthL1norm_sma_quartile2'],\n",
       " ['pcm_RMSenergy_sma_percentile99.0'],\n",
       " ['pcm_RMSenergy_sma_pctlrange0-1'],\n",
       " ['audSpec_Rfilt_sma[5]_range'],\n",
       " ['audSpec_Rfilt_sma[20]_percentile1.0'],\n",
       " ['mfcc_sma[1]_percentile99.0'],\n",
       " ['mfcc_sma[3]_percentile1.0'],\n",
       " ['mfcc_sma[5]_skewness'],\n",
       " ['audSpec_Rfilt_sma_de[8]_range'],\n",
       " ['audSpec_Rfilt_sma_de[21]_range'],\n",
       " ['audSpec_Rfilt_sma_de[23]_percentile99.0'],\n",
       " ['mfcc_sma_de[7]_quartile2'],\n",
       " ['audSpec_Rfilt_sma[6]_meanRisingSlope'],\n",
       " ['audSpec_Rfilt_sma[10]_linregerrQ'],\n",
       " ['audSpec_Rfilt_sma[16]_peakRangeAbs'],\n",
       " ['pcm_fftMag_fband1000-4000_sma_peakRangeAbs'],\n",
       " ['pcm_fftMag_spectralRollOff50.0_sma_minRangeRel'],\n",
       " ['mfcc_sma[2]_peakRangeAbs'],\n",
       " ['audSpec_Rfilt_sma_de[21]_peakMeanAbs'],\n",
       " ['audSpec_Rfilt_sma_de[21]_peakMeanMeanDist']]"
      ]
     },
     "execution_count": 15,
     "metadata": {},
     "output_type": "execute_result"
    }
   ],
   "source": [
    "nf = 20\n",
    "\n",
    "#labels = np.tile(labels,(nf,1))\n",
    "#labels = np.transpose(labels)\n",
    "\n",
    "selector = SelectKBest(mutual_info_regression, k=nf)\n",
    "\n",
    "data_new = selector.fit_transform(data, labels)\n",
    "\n",
    "print(data_new.shape)\n",
    "\n",
    "index = selector.get_support(indices=True)\n",
    "\n",
    "selected_features = [your_list[x] for x in index]\n",
    "\n",
    "selected_features"
   ]
  },
  {
   "cell_type": "code",
   "execution_count": 16,
   "metadata": {},
   "outputs": [
    {
     "name": "stdout",
     "output_type": "stream",
     "text": [
      "(620, 50)\n"
     ]
    },
    {
     "data": {
      "text/plain": [
       "[['audspec_lengthL1norm_sma_quartile2'],\n",
       " ['pcm_RMSenergy_sma_range'],\n",
       " ['pcm_RMSenergy_sma_percentile99.0'],\n",
       " ['pcm_RMSenergy_sma_pctlrange0-1'],\n",
       " ['pcm_RMSenergy_sma_stddev'],\n",
       " ['audSpec_Rfilt_sma[5]_range'],\n",
       " ['audSpec_Rfilt_sma[12]_range'],\n",
       " ['audSpec_Rfilt_sma[12]_upleveltime25'],\n",
       " ['audSpec_Rfilt_sma[20]_percentile1.0'],\n",
       " ['pcm_fftMag_fband1000-4000_sma_quartile2'],\n",
       " ['pcm_fftMag_spectralRollOff90.0_sma_kurtosis'],\n",
       " ['pcm_fftMag_spectralSlope_sma_range'],\n",
       " ['pcm_fftMag_spectralSlope_sma_percentile1.0'],\n",
       " ['pcm_fftMag_spectralHarmonicity_sma_range'],\n",
       " ['mfcc_sma[1]_range'],\n",
       " ['mfcc_sma[1]_percentile99.0'],\n",
       " ['mfcc_sma[2]_pctlrange0-1'],\n",
       " ['mfcc_sma[3]_percentile1.0'],\n",
       " ['mfcc_sma[3]_percentile99.0'],\n",
       " ['mfcc_sma[5]_percentile1.0'],\n",
       " ['mfcc_sma[5]_skewness'],\n",
       " ['mfcc_sma[6]_range'],\n",
       " ['mfcc_sma[8]_percentile99.0'],\n",
       " ['mfcc_sma[13]_risetime'],\n",
       " ['audSpec_Rfilt_sma_de[5]_range'],\n",
       " ['audSpec_Rfilt_sma_de[8]_range'],\n",
       " ['audSpec_Rfilt_sma_de[9]_range'],\n",
       " ['audSpec_Rfilt_sma_de[12]_range'],\n",
       " ['audSpec_Rfilt_sma_de[21]_range'],\n",
       " ['audSpec_Rfilt_sma_de[23]_percentile99.0'],\n",
       " ['pcm_fftMag_spectralFlux_sma_de_percentile1.0'],\n",
       " ['pcm_fftMag_spectralSlope_sma_de_stddev'],\n",
       " ['mfcc_sma_de[2]_quartile1'],\n",
       " ['mfcc_sma_de[7]_quartile2'],\n",
       " ['audSpec_Rfilt_sma[6]_meanRisingSlope'],\n",
       " ['audSpec_Rfilt_sma[10]_linregerrQ'],\n",
       " ['audSpec_Rfilt_sma[10]_qregerrQ'],\n",
       " ['audSpec_Rfilt_sma[16]_peakRangeAbs'],\n",
       " ['pcm_fftMag_fband250-650_sma_amean'],\n",
       " ['pcm_fftMag_fband1000-4000_sma_peakRangeAbs'],\n",
       " ['pcm_fftMag_spectralRollOff50.0_sma_minRangeRel'],\n",
       " ['pcm_fftMag_spectralHarmonicity_sma_minRangeRel'],\n",
       " ['mfcc_sma[2]_flatness'],\n",
       " ['mfcc_sma[2]_peakRangeAbs'],\n",
       " ['pcm_RMSenergy_sma_de_peakRangeAbs'],\n",
       " ['audSpec_Rfilt_sma_de[21]_peakMeanAbs'],\n",
       " ['audSpec_Rfilt_sma_de[21]_peakMeanMeanDist'],\n",
       " ['pcm_fftMag_spectralSkewness_sma_de_peakDistStddev'],\n",
       " ['pcm_fftMag_spectralHarmonicity_sma_de_posamean'],\n",
       " ['mfcc_sma_de[1]_peakDistStddev']]"
      ]
     },
     "execution_count": 16,
     "metadata": {},
     "output_type": "execute_result"
    }
   ],
   "source": [
    "nf = 50\n",
    "\n",
    "#labels = np.tile(labels,(nf,1))\n",
    "#labels = np.transpose(labels)\n",
    "\n",
    "selector = SelectKBest(mutual_info_regression, k=nf)\n",
    "\n",
    "data_new = selector.fit_transform(data, labels)\n",
    "\n",
    "print(data_new.shape)\n",
    "\n",
    "index = selector.get_support(indices=True)\n",
    "\n",
    "selected_features = [your_list[x] for x in index]\n",
    "\n",
    "selected_features"
   ]
  },
  {
   "cell_type": "code",
   "execution_count": 17,
   "metadata": {},
   "outputs": [
    {
     "name": "stdout",
     "output_type": "stream",
     "text": [
      "(620, 100)\n"
     ]
    },
    {
     "data": {
      "text/plain": [
       "[['audspec_lengthL1norm_sma_quartile2'],\n",
       " ['pcm_RMSenergy_sma_range'],\n",
       " ['pcm_RMSenergy_sma_percentile99.0'],\n",
       " ['pcm_RMSenergy_sma_pctlrange0-1'],\n",
       " ['pcm_RMSenergy_sma_stddev'],\n",
       " ['audspec_lengthL1norm_sma_de_iqr1-3'],\n",
       " ['pcm_RMSenergy_sma_de_iqr1-3'],\n",
       " ['audSpec_Rfilt_sma[5]_range'],\n",
       " ['audSpec_Rfilt_sma[10]_stddev'],\n",
       " ['audSpec_Rfilt_sma[12]_range'],\n",
       " ['audSpec_Rfilt_sma[12]_upleveltime25'],\n",
       " ['audSpec_Rfilt_sma[13]_risetime'],\n",
       " ['audSpec_Rfilt_sma[16]_iqr1-3'],\n",
       " ['audSpec_Rfilt_sma[20]_percentile1.0'],\n",
       " ['audSpec_Rfilt_sma[23]_pctlrange0-1'],\n",
       " ['pcm_fftMag_fband250-650_sma_percentile99.0'],\n",
       " ['pcm_fftMag_fband250-650_sma_pctlrange0-1'],\n",
       " ['pcm_fftMag_fband1000-4000_sma_range'],\n",
       " ['pcm_fftMag_fband1000-4000_sma_quartile2'],\n",
       " ['pcm_fftMag_fband1000-4000_sma_iqr1-2'],\n",
       " ['pcm_fftMag_spectralRollOff75.0_sma_upleveltime25'],\n",
       " ['pcm_fftMag_spectralRollOff90.0_sma_iqr1-3'],\n",
       " ['pcm_fftMag_spectralRollOff90.0_sma_kurtosis'],\n",
       " ['pcm_fftMag_spectralSlope_sma_range'],\n",
       " ['pcm_fftMag_spectralSlope_sma_percentile1.0'],\n",
       " ['pcm_fftMag_spectralHarmonicity_sma_range'],\n",
       " ['mfcc_sma[1]_range'],\n",
       " ['mfcc_sma[1]_percentile99.0'],\n",
       " ['mfcc_sma[2]_pctlrange0-1'],\n",
       " ['mfcc_sma[3]_percentile1.0'],\n",
       " ['mfcc_sma[3]_percentile99.0'],\n",
       " ['mfcc_sma[5]_percentile1.0'],\n",
       " ['mfcc_sma[5]_skewness'],\n",
       " ['mfcc_sma[6]_range'],\n",
       " ['mfcc_sma[8]_percentile99.0'],\n",
       " ['mfcc_sma[9]_pctlrange0-1'],\n",
       " ['mfcc_sma[11]_percentile1.0'],\n",
       " ['mfcc_sma[13]_maxSegLen'],\n",
       " ['mfcc_sma[13]_risetime'],\n",
       " ['audSpec_Rfilt_sma_de[5]_range'],\n",
       " ['audSpec_Rfilt_sma_de[7]_range'],\n",
       " ['audSpec_Rfilt_sma_de[8]_range'],\n",
       " ['audSpec_Rfilt_sma_de[9]_range'],\n",
       " ['audSpec_Rfilt_sma_de[9]_quartile1'],\n",
       " ['audSpec_Rfilt_sma_de[12]_range'],\n",
       " ['audSpec_Rfilt_sma_de[19]_skewness'],\n",
       " ['audSpec_Rfilt_sma_de[21]_range'],\n",
       " ['audSpec_Rfilt_sma_de[23]_percentile99.0'],\n",
       " ['pcm_fftMag_fband250-650_sma_de_percentile99.0'],\n",
       " ['pcm_fftMag_fband1000-4000_sma_de_skewness'],\n",
       " ['pcm_fftMag_spectralRollOff25.0_sma_de_minSegLen'],\n",
       " ['pcm_fftMag_spectralRollOff25.0_sma_de_upleveltime90'],\n",
       " ['pcm_fftMag_spectralRollOff90.0_sma_de_maxSegLen'],\n",
       " ['pcm_fftMag_spectralFlux_sma_de_percentile1.0'],\n",
       " ['pcm_fftMag_spectralEntropy_sma_de_maxSegLen'],\n",
       " ['pcm_fftMag_spectralSlope_sma_de_stddev'],\n",
       " ['mfcc_sma_de[2]_quartile1'],\n",
       " ['mfcc_sma_de[5]_iqr1-3'],\n",
       " ['mfcc_sma_de[5]_kurtosis'],\n",
       " ['mfcc_sma_de[7]_quartile2'],\n",
       " ['mfcc_sma_de[8]_kurtosis'],\n",
       " ['voicingFinalUnclipped_sma_percentile99.0'],\n",
       " ['jitterDDP_sma_de_iqr2-3'],\n",
       " ['shimmerLocal_sma_de_leftctime'],\n",
       " ['audSpec_Rfilt_sma[6]_amean'],\n",
       " ['audSpec_Rfilt_sma[6]_meanRisingSlope'],\n",
       " ['audSpec_Rfilt_sma[10]_rqmean'],\n",
       " ['audSpec_Rfilt_sma[10]_stddevFallingSlope'],\n",
       " ['audSpec_Rfilt_sma[10]_linregerrQ'],\n",
       " ['audSpec_Rfilt_sma[10]_qregerrQ'],\n",
       " ['audSpec_Rfilt_sma[12]_peakMeanAbs'],\n",
       " ['audSpec_Rfilt_sma[16]_peakRangeAbs'],\n",
       " ['audSpec_Rfilt_sma[23]_peakRangeAbs'],\n",
       " ['pcm_fftMag_fband250-650_sma_amean'],\n",
       " ['pcm_fftMag_fband250-650_sma_peakRangeAbs'],\n",
       " ['pcm_fftMag_fband250-650_sma_meanRisingSlope'],\n",
       " ['pcm_fftMag_fband1000-4000_sma_peakRangeAbs'],\n",
       " ['pcm_fftMag_fband1000-4000_sma_stddevRisingSlope'],\n",
       " ['pcm_fftMag_spectralRollOff50.0_sma_minRangeRel'],\n",
       " ['pcm_fftMag_spectralVariance_sma_peakRangeRel'],\n",
       " ['pcm_fftMag_spectralSkewness_sma_peakRangeAbs'],\n",
       " ['pcm_fftMag_spectralHarmonicity_sma_minRangeRel'],\n",
       " ['mfcc_sma[1]_peakRangeAbs'],\n",
       " ['mfcc_sma[2]_flatness'],\n",
       " ['mfcc_sma[2]_peakRangeAbs'],\n",
       " ['audspecRasta_lengthL1norm_sma_de_stddevFallingSlope'],\n",
       " ['pcm_RMSenergy_sma_de_peakRangeAbs'],\n",
       " ['audSpec_Rfilt_sma_de[21]_peakMeanAbs'],\n",
       " ['audSpec_Rfilt_sma_de[21]_peakMeanMeanDist'],\n",
       " ['audSpec_Rfilt_sma_de[24]_meanRisingSlope'],\n",
       " ['pcm_fftMag_fband1000-4000_sma_de_meanRisingSlope'],\n",
       " ['pcm_fftMag_spectralEntropy_sma_de_flatness'],\n",
       " ['pcm_fftMag_spectralSkewness_sma_de_peakDistStddev'],\n",
       " ['pcm_fftMag_spectralSlope_sma_de_rqmean'],\n",
       " ['pcm_fftMag_psySharpness_sma_de_rqmean'],\n",
       " ['pcm_fftMag_spectralHarmonicity_sma_de_posamean'],\n",
       " ['mfcc_sma_de[1]_peakDistStddev'],\n",
       " ['mfcc_sma_de[2]_stddevFallingSlope'],\n",
       " ['mfcc_sma_de[8]_peakMeanAbs'],\n",
       " ['mfcc_sma_de[14]_peakMeanMeanDist']]"
      ]
     },
     "execution_count": 17,
     "metadata": {},
     "output_type": "execute_result"
    }
   ],
   "source": [
    "nf = 100\n",
    "\n",
    "#labels = np.tile(labels,(nf,1))\n",
    "#labels = np.transpose(labels)\n",
    "\n",
    "selector = SelectKBest(mutual_info_regression, k=nf)\n",
    "\n",
    "data_new = selector.fit_transform(data, labels)\n",
    "\n",
    "print(data_new.shape)\n",
    "\n",
    "index = selector.get_support(indices=True)\n",
    "\n",
    "selected_features = [your_list[x] for x in index]\n",
    "\n",
    "selected_features"
   ]
  },
  {
   "cell_type": "code",
   "execution_count": 18,
   "metadata": {},
   "outputs": [
    {
     "name": "stdout",
     "output_type": "stream",
     "text": [
      "(620, 200)\n"
     ]
    },
    {
     "data": {
      "text/plain": [
       "[['audspec_lengthL1norm_sma_range'],\n",
       " ['audspec_lengthL1norm_sma_quartile2'],\n",
       " ['pcm_RMSenergy_sma_range'],\n",
       " ['pcm_RMSenergy_sma_percentile99.0'],\n",
       " ['pcm_RMSenergy_sma_pctlrange0-1'],\n",
       " ['pcm_RMSenergy_sma_stddev'],\n",
       " ['pcm_RMSenergy_sma_upleveltime25'],\n",
       " ['audspec_lengthL1norm_sma_de_quartile1'],\n",
       " ['audspec_lengthL1norm_sma_de_iqr1-3'],\n",
       " ['audspec_lengthL1norm_sma_de_pctlrange0-1'],\n",
       " ['audspec_lengthL1norm_sma_de_segLenStddev'],\n",
       " ['pcm_RMSenergy_sma_de_range'],\n",
       " ['pcm_RMSenergy_sma_de_iqr1-3'],\n",
       " ['audSpec_Rfilt_sma[4]_lpc0'],\n",
       " ['audSpec_Rfilt_sma[5]_range'],\n",
       " ['audSpec_Rfilt_sma[5]_stddev'],\n",
       " ['audSpec_Rfilt_sma[8]_range'],\n",
       " ['audSpec_Rfilt_sma[9]_percentile1.0'],\n",
       " ['audSpec_Rfilt_sma[10]_stddev'],\n",
       " ['audSpec_Rfilt_sma[12]_range'],\n",
       " ['audSpec_Rfilt_sma[12]_upleveltime25'],\n",
       " ['audSpec_Rfilt_sma[13]_risetime'],\n",
       " ['audSpec_Rfilt_sma[15]_range'],\n",
       " ['audSpec_Rfilt_sma[16]_iqr1-3'],\n",
       " ['audSpec_Rfilt_sma[16]_percentile99.0'],\n",
       " ['audSpec_Rfilt_sma[16]_pctlrange0-1'],\n",
       " ['audSpec_Rfilt_sma[17]_iqr2-3'],\n",
       " ['audSpec_Rfilt_sma[17]_iqr1-3'],\n",
       " ['audSpec_Rfilt_sma[18]_percentile1.0'],\n",
       " ['audSpec_Rfilt_sma[20]_percentile1.0'],\n",
       " ['audSpec_Rfilt_sma[22]_segLenStddev'],\n",
       " ['audSpec_Rfilt_sma[23]_pctlrange0-1'],\n",
       " ['pcm_fftMag_fband250-650_sma_percentile99.0'],\n",
       " ['pcm_fftMag_fband250-650_sma_pctlrange0-1'],\n",
       " ['pcm_fftMag_fband250-650_sma_upleveltime75'],\n",
       " ['pcm_fftMag_fband1000-4000_sma_range'],\n",
       " ['pcm_fftMag_fband1000-4000_sma_quartile2'],\n",
       " ['pcm_fftMag_fband1000-4000_sma_iqr1-2'],\n",
       " ['pcm_fftMag_spectralRollOff50.0_sma_range'],\n",
       " ['pcm_fftMag_spectralRollOff50.0_sma_quartile2'],\n",
       " ['pcm_fftMag_spectralRollOff75.0_sma_upleveltime25'],\n",
       " ['pcm_fftMag_spectralRollOff90.0_sma_quartile3'],\n",
       " ['pcm_fftMag_spectralRollOff90.0_sma_iqr1-3'],\n",
       " ['pcm_fftMag_spectralRollOff90.0_sma_skewness'],\n",
       " ['pcm_fftMag_spectralRollOff90.0_sma_kurtosis'],\n",
       " ['pcm_fftMag_spectralRollOff90.0_sma_maxSegLen'],\n",
       " ['pcm_fftMag_spectralCentroid_sma_iqr1-2'],\n",
       " ['pcm_fftMag_spectralVariance_sma_percentile99.0'],\n",
       " ['pcm_fftMag_spectralVariance_sma_pctlrange0-1'],\n",
       " ['pcm_fftMag_spectralVariance_sma_upleveltime90'],\n",
       " ['pcm_fftMag_spectralKurtosis_sma_lpc2'],\n",
       " ['pcm_fftMag_spectralSlope_sma_range'],\n",
       " ['pcm_fftMag_spectralSlope_sma_percentile1.0'],\n",
       " ['pcm_fftMag_spectralSlope_sma_pctlrange0-1'],\n",
       " ['pcm_fftMag_spectralSlope_sma_upleveltime90'],\n",
       " ['pcm_fftMag_psySharpness_sma_upleveltime75'],\n",
       " ['pcm_fftMag_spectralHarmonicity_sma_range'],\n",
       " ['pcm_fftMag_spectralHarmonicity_sma_maxSegLen'],\n",
       " ['mfcc_sma[1]_range'],\n",
       " ['mfcc_sma[1]_percentile99.0'],\n",
       " ['mfcc_sma[1]_maxSegLen'],\n",
       " ['mfcc_sma[2]_quartile1'],\n",
       " ['mfcc_sma[2]_pctlrange0-1'],\n",
       " ['mfcc_sma[2]_lpc1'],\n",
       " ['mfcc_sma[3]_percentile1.0'],\n",
       " ['mfcc_sma[3]_percentile99.0'],\n",
       " ['mfcc_sma[4]_iqr1-3'],\n",
       " ['mfcc_sma[5]_percentile1.0'],\n",
       " ['mfcc_sma[5]_skewness'],\n",
       " ['mfcc_sma[6]_range'],\n",
       " ['mfcc_sma[8]_percentile99.0'],\n",
       " ['mfcc_sma[8]_meanSegLen'],\n",
       " ['mfcc_sma[9]_pctlrange0-1'],\n",
       " ['mfcc_sma[11]_percentile1.0'],\n",
       " ['mfcc_sma[13]_maxSegLen'],\n",
       " ['mfcc_sma[13]_risetime'],\n",
       " ['audSpec_Rfilt_sma_de[3]_range'],\n",
       " ['audSpec_Rfilt_sma_de[5]_range'],\n",
       " ['audSpec_Rfilt_sma_de[5]_quartile1'],\n",
       " ['audSpec_Rfilt_sma_de[5]_iqr2-3'],\n",
       " ['audSpec_Rfilt_sma_de[7]_range'],\n",
       " ['audSpec_Rfilt_sma_de[8]_range'],\n",
       " ['audSpec_Rfilt_sma_de[9]_range'],\n",
       " ['audSpec_Rfilt_sma_de[9]_quartile1'],\n",
       " ['audSpec_Rfilt_sma_de[12]_range'],\n",
       " ['audSpec_Rfilt_sma_de[13]_lpc4'],\n",
       " ['audSpec_Rfilt_sma_de[18]_skewness'],\n",
       " ['audSpec_Rfilt_sma_de[18]_kurtosis'],\n",
       " ['audSpec_Rfilt_sma_de[18]_upleveltime25'],\n",
       " ['audSpec_Rfilt_sma_de[19]_skewness'],\n",
       " ['audSpec_Rfilt_sma_de[20]_pctlrange0-1'],\n",
       " ['audSpec_Rfilt_sma_de[21]_range'],\n",
       " ['audSpec_Rfilt_sma_de[23]_percentile99.0'],\n",
       " ['audSpec_Rfilt_sma_de[23]_pctlrange0-1'],\n",
       " ['pcm_fftMag_fband250-650_sma_de_percentile99.0'],\n",
       " ['pcm_fftMag_fband1000-4000_sma_de_iqr1-3'],\n",
       " ['pcm_fftMag_fband1000-4000_sma_de_stddev'],\n",
       " ['pcm_fftMag_fband1000-4000_sma_de_skewness'],\n",
       " ['pcm_fftMag_spectralRollOff25.0_sma_de_minSegLen'],\n",
       " ['pcm_fftMag_spectralRollOff25.0_sma_de_upleveltime90'],\n",
       " ['pcm_fftMag_spectralRollOff90.0_sma_de_percentile99.0'],\n",
       " ['pcm_fftMag_spectralRollOff90.0_sma_de_maxSegLen'],\n",
       " ['pcm_fftMag_spectralFlux_sma_de_percentile1.0'],\n",
       " ['pcm_fftMag_spectralEntropy_sma_de_maxSegLen'],\n",
       " ['pcm_fftMag_spectralVariance_sma_de_upleveltime50'],\n",
       " ['pcm_fftMag_spectralKurtosis_sma_de_quartile2'],\n",
       " ['pcm_fftMag_spectralKurtosis_sma_de_quartile3'],\n",
       " ['pcm_fftMag_spectralSlope_sma_de_stddev'],\n",
       " ['pcm_fftMag_psySharpness_sma_de_range'],\n",
       " ['pcm_fftMag_spectralHarmonicity_sma_de_percentile1.0'],\n",
       " ['mfcc_sma_de[2]_quartile1'],\n",
       " ['mfcc_sma_de[2]_quartile3'],\n",
       " ['mfcc_sma_de[3]_percentile1.0'],\n",
       " ['mfcc_sma_de[4]_pctlrange0-1'],\n",
       " ['mfcc_sma_de[5]_iqr1-3'],\n",
       " ['mfcc_sma_de[5]_kurtosis'],\n",
       " ['mfcc_sma_de[7]_quartile2'],\n",
       " ['mfcc_sma_de[7]_iqr2-3'],\n",
       " ['mfcc_sma_de[7]_skewness'],\n",
       " ['mfcc_sma_de[7]_maxSegLen'],\n",
       " ['mfcc_sma_de[8]_skewness'],\n",
       " ['mfcc_sma_de[8]_kurtosis'],\n",
       " ['mfcc_sma_de[14]_percentile99.0'],\n",
       " ['F0final_sma_pctlrange0-1'],\n",
       " ['voicingFinalUnclipped_sma_percentile99.0'],\n",
       " ['jitterDDP_sma_percentile1.0'],\n",
       " ['jitterLocal_sma_de_leftctime'],\n",
       " ['jitterDDP_sma_de_iqr2-3'],\n",
       " ['shimmerLocal_sma_de_leftctime'],\n",
       " ['F0final_sma_ff0_maxSegLen'],\n",
       " ['F0final_sma_ff0_minSegLen'],\n",
       " ['pcm_RMSenergy_sma_peakRangeAbs'],\n",
       " ['audSpec_Rfilt_sma[5]_qregerrQ'],\n",
       " ['audSpec_Rfilt_sma[6]_amean'],\n",
       " ['audSpec_Rfilt_sma[6]_meanRisingSlope'],\n",
       " ['audSpec_Rfilt_sma[10]_rqmean'],\n",
       " ['audSpec_Rfilt_sma[10]_stddevFallingSlope'],\n",
       " ['audSpec_Rfilt_sma[10]_linregerrQ'],\n",
       " ['audSpec_Rfilt_sma[10]_qregerrQ'],\n",
       " ['audSpec_Rfilt_sma[12]_peakDistStddev'],\n",
       " ['audSpec_Rfilt_sma[12]_peakRangeAbs'],\n",
       " ['audSpec_Rfilt_sma[12]_peakMeanAbs'],\n",
       " ['audSpec_Rfilt_sma[12]_peakMeanMeanDist'],\n",
       " ['audSpec_Rfilt_sma[12]_peakMeanRel'],\n",
       " ['audSpec_Rfilt_sma[16]_peakRangeAbs'],\n",
       " ['audSpec_Rfilt_sma[22]_peakRangeAbs'],\n",
       " ['audSpec_Rfilt_sma[23]_peakRangeAbs'],\n",
       " ['pcm_fftMag_fband250-650_sma_amean'],\n",
       " ['pcm_fftMag_fband250-650_sma_rqmean'],\n",
       " ['pcm_fftMag_fband250-650_sma_peakRangeAbs'],\n",
       " ['pcm_fftMag_fband250-650_sma_meanRisingSlope'],\n",
       " ['pcm_fftMag_fband1000-4000_sma_peakRangeAbs'],\n",
       " ['pcm_fftMag_fband1000-4000_sma_stddevRisingSlope'],\n",
       " ['pcm_fftMag_spectralRollOff50.0_sma_minRangeRel'],\n",
       " ['pcm_fftMag_spectralCentroid_sma_linregerrQ'],\n",
       " ['pcm_fftMag_spectralVariance_sma_peakRangeRel'],\n",
       " ['pcm_fftMag_spectralSkewness_sma_peakRangeAbs'],\n",
       " ['pcm_fftMag_spectralKurtosis_sma_peakRangeAbs'],\n",
       " ['pcm_fftMag_spectralKurtosis_sma_stddevRisingSlope'],\n",
       " ['pcm_fftMag_spectralSlope_sma_peakRangeAbs'],\n",
       " ['pcm_fftMag_spectralHarmonicity_sma_rqmean'],\n",
       " ['pcm_fftMag_spectralHarmonicity_sma_minRangeRel'],\n",
       " ['mfcc_sma[1]_peakRangeAbs'],\n",
       " ['mfcc_sma[2]_flatness'],\n",
       " ['mfcc_sma[2]_peakRangeAbs'],\n",
       " ['mfcc_sma[4]_meanRisingSlope'],\n",
       " ['mfcc_sma[5]_qregerrQ'],\n",
       " ['mfcc_sma[9]_peakMeanMeanDist'],\n",
       " ['audspecRasta_lengthL1norm_sma_de_stddevFallingSlope'],\n",
       " ['pcm_RMSenergy_sma_de_peakDistStddev'],\n",
       " ['pcm_RMSenergy_sma_de_peakRangeAbs'],\n",
       " ['audSpec_Rfilt_sma_de[21]_peakRangeAbs'],\n",
       " ['audSpec_Rfilt_sma_de[21]_peakMeanAbs'],\n",
       " ['audSpec_Rfilt_sma_de[21]_peakMeanMeanDist'],\n",
       " ['audSpec_Rfilt_sma_de[22]_minRangeRel'],\n",
       " ['audSpec_Rfilt_sma_de[24]_meanRisingSlope'],\n",
       " ['audSpec_Rfilt_sma_de[25]_peakRangeAbs'],\n",
       " ['pcm_fftMag_fband250-650_sma_de_flatness'],\n",
       " ['pcm_fftMag_fband1000-4000_sma_de_posamean'],\n",
       " ['pcm_fftMag_fband1000-4000_sma_de_rqmean'],\n",
       " ['pcm_fftMag_fband1000-4000_sma_de_meanRisingSlope'],\n",
       " ['pcm_fftMag_spectralRollOff50.0_sma_de_meanRisingSlope'],\n",
       " ['pcm_fftMag_spectralRollOff75.0_sma_de_minRangeRel'],\n",
       " ['pcm_fftMag_spectralEntropy_sma_de_flatness'],\n",
       " ['pcm_fftMag_spectralEntropy_sma_de_peakRangeAbs'],\n",
       " ['pcm_fftMag_spectralSkewness_sma_de_peakDistStddev'],\n",
       " ['pcm_fftMag_spectralSlope_sma_de_rqmean'],\n",
       " ['pcm_fftMag_spectralSlope_sma_de_peakRangeAbs'],\n",
       " ['pcm_fftMag_psySharpness_sma_de_rqmean'],\n",
       " ['pcm_fftMag_spectralHarmonicity_sma_de_posamean'],\n",
       " ['pcm_fftMag_spectralHarmonicity_sma_de_peakRangeAbs'],\n",
       " ['mfcc_sma_de[1]_peakDistStddev'],\n",
       " ['mfcc_sma_de[2]_stddevFallingSlope'],\n",
       " ['mfcc_sma_de[3]_posamean'],\n",
       " ['mfcc_sma_de[4]_peakMeanAbs'],\n",
       " ['mfcc_sma_de[7]_peakMeanAbs'],\n",
       " ['mfcc_sma_de[8]_peakMeanAbs'],\n",
       " ['mfcc_sma_de[10]_peakDistStddev'],\n",
       " ['mfcc_sma_de[10]_peakRangeAbs'],\n",
       " ['mfcc_sma_de[14]_peakMeanMeanDist']]"
      ]
     },
     "execution_count": 18,
     "metadata": {},
     "output_type": "execute_result"
    }
   ],
   "source": [
    "nf = 200\n",
    "\n",
    "#labels = np.tile(labels,(nf,1))\n",
    "#labels = np.transpose(labels)\n",
    "\n",
    "selector = SelectKBest(mutual_info_regression, k=nf)\n",
    "\n",
    "data_new = selector.fit_transform(data, labels)\n",
    "\n",
    "print(data_new.shape)\n",
    "\n",
    "index = selector.get_support(indices=True)\n",
    "\n",
    "selected_features = [your_list[x] for x in index]\n",
    "\n",
    "selected_features"
   ]
  },
  {
   "cell_type": "code",
   "execution_count": null,
   "metadata": {},
   "outputs": [],
   "source": []
  }
 ],
 "metadata": {
  "kernelspec": {
   "display_name": "Python 2",
   "language": "python",
   "name": "python2"
  },
  "language_info": {
   "codemirror_mode": {
    "name": "ipython",
    "version": 2
   },
   "file_extension": ".py",
   "mimetype": "text/x-python",
   "name": "python",
   "nbconvert_exporter": "python",
   "pygments_lexer": "ipython2",
   "version": "2.7.12"
  }
 },
 "nbformat": 4,
 "nbformat_minor": 2
}
