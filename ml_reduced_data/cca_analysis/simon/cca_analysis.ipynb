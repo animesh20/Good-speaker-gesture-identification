{
 "cells": [
  {
   "cell_type": "code",
   "execution_count": 1,
   "metadata": {},
   "outputs": [],
   "source": [
    "import csv\n",
    "import numpy as np\n",
    "from sklearn.feature_selection import SelectKBest\n",
    "from sklearn.feature_selection import mutual_info_regression\n",
    "import transposer"
   ]
  },
  {
   "cell_type": "markdown",
   "metadata": {},
   "source": [
    "# Simon Video"
   ]
  },
  {
   "cell_type": "code",
   "execution_count": 2,
   "metadata": {},
   "outputs": [],
   "source": [
    "with open('simon_audio_features.csv', 'rb') as f:\n",
    "    reader = csv.reader(f)\n",
    "    your_list = list(reader)\n",
    "    \n",
    "for i in xrange(0,len(your_list)):\n",
    "    your_list[i] = map(float,your_list[i])\n",
    "data = np.array(your_list)"
   ]
  },
  {
   "cell_type": "code",
   "execution_count": 3,
   "metadata": {},
   "outputs": [
    {
     "name": "stdout",
     "output_type": "stream",
     "text": [
      "(6373, 714)\n",
      "(714, 6373)\n"
     ]
    }
   ],
   "source": [
    "print(data.shape)\n",
    "\n",
    "data = np.transpose(data)\n",
    "\n",
    "print(data.shape)"
   ]
  },
  {
   "cell_type": "code",
   "execution_count": 4,
   "metadata": {},
   "outputs": [
    {
     "name": "stdout",
     "output_type": "stream",
     "text": [
      "(714, 1)\n"
     ]
    }
   ],
   "source": [
    "with open('simon_eyeblink.csv', 'rb') as f:\n",
    "    reader = csv.reader(f)\n",
    "    your_list = list(reader)\n",
    "    \n",
    "for i in xrange(0,len(your_list)):\n",
    "    your_list[i] = map(float,your_list[i])\n",
    "labels = np.array(your_list)\n",
    "\n",
    "#labels = labels.reshape((len(labels),))\n",
    "\n",
    "print(labels.shape)"
   ]
  },
  {
   "cell_type": "code",
   "execution_count": 6,
   "metadata": {},
   "outputs": [
    {
     "name": "stdout",
     "output_type": "stream",
     "text": [
      "(714, 10)\n"
     ]
    }
   ],
   "source": [
    "nf = 10\n",
    "\n",
    "#labels = np.tile(labels,(nf,1))\n",
    "#labels = np.transpose(labels)\n",
    "\n",
    "selector = SelectKBest(mutual_info_regression, k=nf)\n",
    "\n",
    "data_new = selector.fit_transform(data, labels)\n",
    "\n",
    "print(data_new.shape)\n",
    "\n",
    "index = selector.get_support(indices=True)"
   ]
  },
  {
   "cell_type": "code",
   "execution_count": 7,
   "metadata": {},
   "outputs": [
    {
     "name": "stdout",
     "output_type": "stream",
     "text": [
      "6373\n"
     ]
    }
   ],
   "source": [
    "with open('feature_names.csv', 'rb') as f:\n",
    "    reader = csv.reader(f)\n",
    "    your_list = list(reader)\n",
    "    \n",
    "print(len(your_list))"
   ]
  },
  {
   "cell_type": "code",
   "execution_count": 8,
   "metadata": {},
   "outputs": [
    {
     "data": {
      "text/plain": [
       "[['audSpec_Rfilt_sma[13]_range'],\n",
       " ['audSpec_Rfilt_sma[23]_range'],\n",
       " ['pcm_fftMag_spectralRollOff25.0_sma_percentile99.0'],\n",
       " ['pcm_fftMag_spectralFlux_sma_range'],\n",
       " ['pcm_fftMag_spectralSkewness_sma_range'],\n",
       " ['pcm_fftMag_psySharpness_sma_percentile1.0'],\n",
       " ['mfcc_sma[6]_percentile1.0'],\n",
       " ['audSpec_Rfilt_sma_de[20]_range'],\n",
       " ['pcm_fftMag_spectralFlux_sma_de_range'],\n",
       " ['audSpec_Rfilt_sma_de[5]_stddevRisingSlope']]"
      ]
     },
     "execution_count": 8,
     "metadata": {},
     "output_type": "execute_result"
    }
   ],
   "source": [
    "selected_features = [your_list[x] for x in index]\n",
    "\n",
    "selected_features"
   ]
  },
  {
   "cell_type": "code",
   "execution_count": 9,
   "metadata": {},
   "outputs": [],
   "source": [
    "#subtracting mean\n",
    "data_new -= np.mean(data_new, axis = 0)\n",
    "\n",
    "#dividing by standard deviation\n",
    "data_new /= np.std(data_new, axis = 0)"
   ]
  },
  {
   "cell_type": "code",
   "execution_count": 10,
   "metadata": {},
   "outputs": [
    {
     "data": {
      "text/plain": [
       "(714, 10)"
      ]
     },
     "execution_count": 10,
     "metadata": {},
     "output_type": "execute_result"
    }
   ],
   "source": [
    "filename = 'simon_audio_'+str(nf)+'.csv'\n",
    "\n",
    "np.savetxt(filename, data_new, delimiter=\",\")\n",
    "\n",
    "data_new.shape"
   ]
  },
  {
   "cell_type": "code",
   "execution_count": 11,
   "metadata": {},
   "outputs": [
    {
     "name": "stdout",
     "output_type": "stream",
     "text": [
      "(714, 20)\n"
     ]
    },
    {
     "data": {
      "text/plain": [
       "[['pcm_RMSenergy_sma_de_percentile1.0'],\n",
       " ['audSpec_Rfilt_sma[4]_range'],\n",
       " ['audSpec_Rfilt_sma[4]_maxPos'],\n",
       " ['audSpec_Rfilt_sma[13]_range'],\n",
       " ['audSpec_Rfilt_sma[23]_range'],\n",
       " ['pcm_fftMag_spectralRollOff25.0_sma_percentile99.0'],\n",
       " ['pcm_fftMag_spectralRollOff25.0_sma_pctlrange0-1'],\n",
       " ['pcm_fftMag_spectralFlux_sma_range'],\n",
       " ['pcm_fftMag_spectralSkewness_sma_range'],\n",
       " ['pcm_fftMag_psySharpness_sma_percentile1.0'],\n",
       " ['pcm_fftMag_psySharpness_sma_pctlrange0-1'],\n",
       " ['mfcc_sma[6]_percentile1.0'],\n",
       " ['audSpec_Rfilt_sma_de[7]_range'],\n",
       " ['audSpec_Rfilt_sma_de[19]_upleveltime50'],\n",
       " ['audSpec_Rfilt_sma_de[20]_range'],\n",
       " ['audSpec_Rfilt_sma_de[22]_percentile1.0'],\n",
       " ['pcm_fftMag_spectralFlux_sma_de_range'],\n",
       " ['pcm_fftMag_fband1000-4000_sma_meanRisingSlope'],\n",
       " ['pcm_fftMag_spectralFlux_sma_peakRangeAbs'],\n",
       " ['audSpec_Rfilt_sma_de[5]_stddevRisingSlope']]"
      ]
     },
     "execution_count": 11,
     "metadata": {},
     "output_type": "execute_result"
    }
   ],
   "source": [
    "nf = 20\n",
    "\n",
    "#labels = np.tile(labels,(nf,1))\n",
    "#labels = np.transpose(labels)\n",
    "\n",
    "selector = SelectKBest(mutual_info_regression, k=nf)\n",
    "\n",
    "data_new = selector.fit_transform(data, labels)\n",
    "\n",
    "print(data_new.shape)\n",
    "\n",
    "index = selector.get_support(indices=True)\n",
    "\n",
    "selected_features = [your_list[x] for x in index]\n",
    "\n",
    "selected_features"
   ]
  },
  {
   "cell_type": "code",
   "execution_count": 12,
   "metadata": {},
   "outputs": [
    {
     "name": "stdout",
     "output_type": "stream",
     "text": [
      "(714, 50)\n"
     ]
    },
    {
     "data": {
      "text/plain": [
       "[['audspec_lengthL1norm_sma_range'],\n",
       " ['audspec_lengthL1norm_sma_percentile99.0'],\n",
       " ['audspecRasta_lengthL1norm_sma_percentile1.0'],\n",
       " ['audspec_lengthL1norm_sma_de_range'],\n",
       " ['pcm_RMSenergy_sma_de_percentile1.0'],\n",
       " ['audSpec_Rfilt_sma[4]_range'],\n",
       " ['audSpec_Rfilt_sma[4]_maxPos'],\n",
       " ['audSpec_Rfilt_sma[8]_range'],\n",
       " ['audSpec_Rfilt_sma[13]_range'],\n",
       " ['audSpec_Rfilt_sma[19]_range'],\n",
       " ['audSpec_Rfilt_sma[23]_range'],\n",
       " ['pcm_fftMag_spectralRollOff25.0_sma_percentile99.0'],\n",
       " ['pcm_fftMag_spectralRollOff25.0_sma_pctlrange0-1'],\n",
       " ['pcm_fftMag_spectralFlux_sma_range'],\n",
       " ['pcm_fftMag_spectralFlux_sma_quartile3'],\n",
       " ['pcm_fftMag_spectralFlux_sma_percentile99.0'],\n",
       " ['pcm_fftMag_spectralFlux_sma_pctlrange0-1'],\n",
       " ['pcm_fftMag_spectralVariance_sma_range'],\n",
       " ['pcm_fftMag_spectralVariance_sma_pctlrange0-1'],\n",
       " ['pcm_fftMag_spectralSkewness_sma_range'],\n",
       " ['pcm_fftMag_psySharpness_sma_percentile1.0'],\n",
       " ['pcm_fftMag_psySharpness_sma_percentile99.0'],\n",
       " ['pcm_fftMag_psySharpness_sma_pctlrange0-1'],\n",
       " ['mfcc_sma[6]_percentile1.0'],\n",
       " ['audSpec_Rfilt_sma_de[4]_maxPos'],\n",
       " ['audSpec_Rfilt_sma_de[7]_range'],\n",
       " ['audSpec_Rfilt_sma_de[7]_upleveltime25'],\n",
       " ['audSpec_Rfilt_sma_de[11]_range'],\n",
       " ['audSpec_Rfilt_sma_de[19]_range'],\n",
       " ['audSpec_Rfilt_sma_de[19]_upleveltime50'],\n",
       " ['audSpec_Rfilt_sma_de[20]_range'],\n",
       " ['audSpec_Rfilt_sma_de[22]_range'],\n",
       " ['audSpec_Rfilt_sma_de[22]_percentile1.0'],\n",
       " ['audSpec_Rfilt_sma_de[23]_range'],\n",
       " ['pcm_fftMag_fband1000-4000_sma_de_percentile99.0'],\n",
       " ['pcm_fftMag_spectralFlux_sma_de_range'],\n",
       " ['F0final_sma_quartile2'],\n",
       " ['F0final_sma_percentile1.0'],\n",
       " ['audSpec_Rfilt_sma[8]_peakRangeAbs'],\n",
       " ['audSpec_Rfilt_sma[23]_peakRangeAbs'],\n",
       " ['pcm_fftMag_fband1000-4000_sma_meanRisingSlope'],\n",
       " ['pcm_fftMag_spectralFlux_sma_peakRangeAbs'],\n",
       " ['pcm_fftMag_spectralCentroid_sma_peakRangeAbs'],\n",
       " ['pcm_fftMag_spectralKurtosis_sma_peakRangeAbs'],\n",
       " ['audSpec_Rfilt_sma_de[5]_stddevRisingSlope'],\n",
       " ['audSpec_Rfilt_sma_de[6]_peakRangeRel'],\n",
       " ['pcm_fftMag_spectralFlux_sma_de_peakRangeAbs'],\n",
       " ['pcm_fftMag_spectralFlux_sma_de_stddevFallingSlope'],\n",
       " ['pcm_fftMag_spectralEntropy_sma_de_peakRangeAbs'],\n",
       " ['mfcc_sma_de[1]_minRangeRel']]"
      ]
     },
     "execution_count": 12,
     "metadata": {},
     "output_type": "execute_result"
    }
   ],
   "source": [
    "nf = 50\n",
    "\n",
    "#labels = np.tile(labels,(nf,1))\n",
    "#labels = np.transpose(labels)\n",
    "\n",
    "selector = SelectKBest(mutual_info_regression, k=nf)\n",
    "\n",
    "data_new = selector.fit_transform(data, labels)\n",
    "\n",
    "print(data_new.shape)\n",
    "\n",
    "index = selector.get_support(indices=True)\n",
    "\n",
    "selected_features = [your_list[x] for x in index]\n",
    "\n",
    "selected_features"
   ]
  },
  {
   "cell_type": "code",
   "execution_count": 13,
   "metadata": {},
   "outputs": [
    {
     "name": "stdout",
     "output_type": "stream",
     "text": [
      "(714, 100)\n"
     ]
    },
    {
     "data": {
      "text/plain": [
       "[['audspec_lengthL1norm_sma_range'],\n",
       " ['audspec_lengthL1norm_sma_percentile99.0'],\n",
       " ['audspec_lengthL1norm_sma_pctlrange0-1'],\n",
       " ['audspecRasta_lengthL1norm_sma_range'],\n",
       " ['audspecRasta_lengthL1norm_sma_percentile1.0'],\n",
       " ['audspec_lengthL1norm_sma_de_range'],\n",
       " ['pcm_RMSenergy_sma_de_percentile1.0'],\n",
       " ['pcm_zcr_sma_de_range'],\n",
       " ['audSpec_Rfilt_sma[4]_range'],\n",
       " ['audSpec_Rfilt_sma[4]_maxPos'],\n",
       " ['audSpec_Rfilt_sma[4]_meanSegLen'],\n",
       " ['audSpec_Rfilt_sma[4]_maxSegLen'],\n",
       " ['audSpec_Rfilt_sma[6]_range'],\n",
       " ['audSpec_Rfilt_sma[8]_range'],\n",
       " ['audSpec_Rfilt_sma[13]_range'],\n",
       " ['audSpec_Rfilt_sma[19]_range'],\n",
       " ['audSpec_Rfilt_sma[23]_range'],\n",
       " ['pcm_fftMag_fband1000-4000_sma_stddev'],\n",
       " ['pcm_fftMag_spectralRollOff25.0_sma_percentile99.0'],\n",
       " ['pcm_fftMag_spectralRollOff25.0_sma_pctlrange0-1'],\n",
       " ['pcm_fftMag_spectralFlux_sma_range'],\n",
       " ['pcm_fftMag_spectralFlux_sma_quartile3'],\n",
       " ['pcm_fftMag_spectralFlux_sma_percentile99.0'],\n",
       " ['pcm_fftMag_spectralFlux_sma_pctlrange0-1'],\n",
       " ['pcm_fftMag_spectralCentroid_sma_range'],\n",
       " ['pcm_fftMag_spectralCentroid_sma_percentile1.0'],\n",
       " ['pcm_fftMag_spectralVariance_sma_range'],\n",
       " ['pcm_fftMag_spectralVariance_sma_percentile99.0'],\n",
       " ['pcm_fftMag_spectralVariance_sma_pctlrange0-1'],\n",
       " ['pcm_fftMag_spectralSkewness_sma_range'],\n",
       " ['pcm_fftMag_spectralSkewness_sma_percentile1.0'],\n",
       " ['pcm_fftMag_spectralSkewness_sma_percentile99.0'],\n",
       " ['pcm_fftMag_spectralKurtosis_sma_range'],\n",
       " ['pcm_fftMag_psySharpness_sma_percentile1.0'],\n",
       " ['pcm_fftMag_psySharpness_sma_percentile99.0'],\n",
       " ['pcm_fftMag_psySharpness_sma_pctlrange0-1'],\n",
       " ['mfcc_sma[1]_pctlrange0-1'],\n",
       " ['mfcc_sma[2]_range'],\n",
       " ['mfcc_sma[4]_percentile1.0'],\n",
       " ['mfcc_sma[6]_percentile1.0'],\n",
       " ['mfcc_sma[7]_upleveltime90'],\n",
       " ['mfcc_sma[8]_range'],\n",
       " ['mfcc_sma[11]_percentile99.0'],\n",
       " ['mfcc_sma[14]_range'],\n",
       " ['audSpec_Rfilt_sma_de[4]_maxPos'],\n",
       " ['audSpec_Rfilt_sma_de[4]_minPos'],\n",
       " ['audSpec_Rfilt_sma_de[7]_range'],\n",
       " ['audSpec_Rfilt_sma_de[7]_upleveltime25'],\n",
       " ['audSpec_Rfilt_sma_de[11]_range'],\n",
       " ['audSpec_Rfilt_sma_de[13]_range'],\n",
       " ['audSpec_Rfilt_sma_de[14]_range'],\n",
       " ['audSpec_Rfilt_sma_de[16]_quartile3'],\n",
       " ['audSpec_Rfilt_sma_de[19]_range'],\n",
       " ['audSpec_Rfilt_sma_de[19]_upleveltime50'],\n",
       " ['audSpec_Rfilt_sma_de[20]_range'],\n",
       " ['audSpec_Rfilt_sma_de[22]_range'],\n",
       " ['audSpec_Rfilt_sma_de[22]_percentile1.0'],\n",
       " ['audSpec_Rfilt_sma_de[23]_range'],\n",
       " ['pcm_fftMag_fband1000-4000_sma_de_percentile99.0'],\n",
       " ['pcm_fftMag_spectralFlux_sma_de_range'],\n",
       " ['pcm_fftMag_spectralSkewness_sma_de_lpgain'],\n",
       " ['pcm_fftMag_spectralSlope_sma_de_percentile1.0'],\n",
       " ['mfcc_sma_de[3]_maxSegLen'],\n",
       " ['mfcc_sma_de[6]_range'],\n",
       " ['mfcc_sma_de[6]_percentile99.0'],\n",
       " ['F0final_sma_quartile2'],\n",
       " ['F0final_sma_percentile1.0'],\n",
       " ['audSpec_Rfilt_sma[3]_stddevFallingSlope'],\n",
       " ['audSpec_Rfilt_sma[8]_peakRangeAbs'],\n",
       " ['audSpec_Rfilt_sma[20]_peakRangeAbs'],\n",
       " ['audSpec_Rfilt_sma[23]_peakRangeAbs'],\n",
       " ['pcm_fftMag_fband250-650_sma_meanRisingSlope'],\n",
       " ['pcm_fftMag_fband1000-4000_sma_meanRisingSlope'],\n",
       " ['pcm_fftMag_fband1000-4000_sma_stddevRisingSlope'],\n",
       " ['pcm_fftMag_fband1000-4000_sma_qregerrQ'],\n",
       " ['pcm_fftMag_spectralRollOff25.0_sma_qregerrQ'],\n",
       " ['pcm_fftMag_spectralRollOff50.0_sma_minRangeRel'],\n",
       " ['pcm_fftMag_spectralFlux_sma_peakRangeAbs'],\n",
       " ['pcm_fftMag_spectralCentroid_sma_peakRangeAbs'],\n",
       " ['pcm_fftMag_spectralSkewness_sma_peakRangeAbs'],\n",
       " ['pcm_fftMag_spectralKurtosis_sma_peakRangeAbs'],\n",
       " ['pcm_fftMag_spectralKurtosis_sma_meanRisingSlope'],\n",
       " ['mfcc_sma[3]_peakRangeRel'],\n",
       " ['mfcc_sma[6]_peakRangeAbs'],\n",
       " ['audspec_lengthL1norm_sma_de_peakRangeAbs'],\n",
       " ['audSpec_Rfilt_sma_de[3]_minRangeRel'],\n",
       " ['audSpec_Rfilt_sma_de[4]_stddevRisingSlope'],\n",
       " ['audSpec_Rfilt_sma_de[5]_stddevRisingSlope'],\n",
       " ['audSpec_Rfilt_sma_de[6]_peakRangeRel'],\n",
       " ['audSpec_Rfilt_sma_de[21]_meanPeakDist'],\n",
       " ['pcm_fftMag_fband1000-4000_sma_de_stddevFallingSlope'],\n",
       " ['pcm_fftMag_spectralFlux_sma_de_peakRangeAbs'],\n",
       " ['pcm_fftMag_spectralFlux_sma_de_stddevFallingSlope'],\n",
       " ['pcm_fftMag_spectralEntropy_sma_de_peakRangeAbs'],\n",
       " ['pcm_fftMag_spectralSkewness_sma_de_posamean'],\n",
       " ['pcm_fftMag_spectralSkewness_sma_de_peakRangeAbs'],\n",
       " ['mfcc_sma_de[1]_minRangeRel'],\n",
       " ['mfcc_sma_de[2]_minRangeRel'],\n",
       " ['mfcc_sma_de[5]_peakMeanMeanDist'],\n",
       " ['mfcc_sma_de[13]_peakRangeRel']]"
      ]
     },
     "execution_count": 13,
     "metadata": {},
     "output_type": "execute_result"
    }
   ],
   "source": [
    "nf = 100\n",
    "\n",
    "#labels = np.tile(labels,(nf,1))\n",
    "#labels = np.transpose(labels)\n",
    "\n",
    "selector = SelectKBest(mutual_info_regression, k=nf)\n",
    "\n",
    "data_new = selector.fit_transform(data, labels)\n",
    "\n",
    "print(data_new.shape)\n",
    "\n",
    "index = selector.get_support(indices=True)\n",
    "\n",
    "selected_features = [your_list[x] for x in index]\n",
    "\n",
    "selected_features"
   ]
  },
  {
   "cell_type": "code",
   "execution_count": 14,
   "metadata": {},
   "outputs": [
    {
     "name": "stdout",
     "output_type": "stream",
     "text": [
      "(714, 200)\n"
     ]
    },
    {
     "data": {
      "text/plain": [
       "[['audspec_lengthL1norm_sma_range'],\n",
       " ['audspec_lengthL1norm_sma_percentile99.0'],\n",
       " ['audspec_lengthL1norm_sma_pctlrange0-1'],\n",
       " ['audspecRasta_lengthL1norm_sma_range'],\n",
       " ['audspecRasta_lengthL1norm_sma_percentile1.0'],\n",
       " ['pcm_zcr_sma_range'],\n",
       " ['audspec_lengthL1norm_sma_de_range'],\n",
       " ['audspecRasta_lengthL1norm_sma_de_iqr1-2'],\n",
       " ['pcm_RMSenergy_sma_de_iqr1-3'],\n",
       " ['pcm_RMSenergy_sma_de_percentile1.0'],\n",
       " ['pcm_zcr_sma_de_range'],\n",
       " ['pcm_zcr_sma_de_lpc1'],\n",
       " ['audSpec_Rfilt_sma[0]_range'],\n",
       " ['audSpec_Rfilt_sma[4]_range'],\n",
       " ['audSpec_Rfilt_sma[4]_maxPos'],\n",
       " ['audSpec_Rfilt_sma[4]_stddev'],\n",
       " ['audSpec_Rfilt_sma[4]_skewness'],\n",
       " ['audSpec_Rfilt_sma[4]_kurtosis'],\n",
       " ['audSpec_Rfilt_sma[4]_meanSegLen'],\n",
       " ['audSpec_Rfilt_sma[4]_maxSegLen'],\n",
       " ['audSpec_Rfilt_sma[5]_segLenStddev'],\n",
       " ['audSpec_Rfilt_sma[5]_upleveltime25'],\n",
       " ['audSpec_Rfilt_sma[6]_range'],\n",
       " ['audSpec_Rfilt_sma[8]_range'],\n",
       " ['audSpec_Rfilt_sma[13]_range'],\n",
       " ['audSpec_Rfilt_sma[14]_range'],\n",
       " ['audSpec_Rfilt_sma[16]_range'],\n",
       " ['audSpec_Rfilt_sma[18]_leftctime'],\n",
       " ['audSpec_Rfilt_sma[19]_range'],\n",
       " ['audSpec_Rfilt_sma[19]_maxSegLen'],\n",
       " ['audSpec_Rfilt_sma[20]_range'],\n",
       " ['audSpec_Rfilt_sma[21]_maxSegLen'],\n",
       " ['audSpec_Rfilt_sma[22]_percentile99.0'],\n",
       " ['audSpec_Rfilt_sma[22]_pctlrange0-1'],\n",
       " ['audSpec_Rfilt_sma[22]_skewness'],\n",
       " ['audSpec_Rfilt_sma[22]_upleveltime75'],\n",
       " ['audSpec_Rfilt_sma[23]_range'],\n",
       " ['audSpec_Rfilt_sma[25]_upleveltime50'],\n",
       " ['pcm_fftMag_fband1000-4000_sma_range'],\n",
       " ['pcm_fftMag_fband1000-4000_sma_stddev'],\n",
       " ['pcm_fftMag_spectralRollOff25.0_sma_percentile99.0'],\n",
       " ['pcm_fftMag_spectralRollOff25.0_sma_pctlrange0-1'],\n",
       " ['pcm_fftMag_spectralRollOff25.0_sma_stddev'],\n",
       " ['pcm_fftMag_spectralRollOff90.0_sma_maxSegLen'],\n",
       " ['pcm_fftMag_spectralFlux_sma_range'],\n",
       " ['pcm_fftMag_spectralFlux_sma_quartile3'],\n",
       " ['pcm_fftMag_spectralFlux_sma_percentile99.0'],\n",
       " ['pcm_fftMag_spectralFlux_sma_pctlrange0-1'],\n",
       " ['pcm_fftMag_spectralCentroid_sma_range'],\n",
       " ['pcm_fftMag_spectralCentroid_sma_percentile1.0'],\n",
       " ['pcm_fftMag_spectralCentroid_sma_pctlrange0-1'],\n",
       " ['pcm_fftMag_spectralEntropy_sma_meanSegLen'],\n",
       " ['pcm_fftMag_spectralVariance_sma_range'],\n",
       " ['pcm_fftMag_spectralVariance_sma_percentile99.0'],\n",
       " ['pcm_fftMag_spectralVariance_sma_pctlrange0-1'],\n",
       " ['pcm_fftMag_spectralSkewness_sma_range'],\n",
       " ['pcm_fftMag_spectralSkewness_sma_percentile1.0'],\n",
       " ['pcm_fftMag_spectralSkewness_sma_percentile99.0'],\n",
       " ['pcm_fftMag_spectralKurtosis_sma_range'],\n",
       " ['pcm_fftMag_spectralKurtosis_sma_percentile1.0'],\n",
       " ['pcm_fftMag_spectralSlope_sma_range'],\n",
       " ['pcm_fftMag_spectralSlope_sma_percentile1.0'],\n",
       " ['pcm_fftMag_psySharpness_sma_percentile1.0'],\n",
       " ['pcm_fftMag_psySharpness_sma_percentile99.0'],\n",
       " ['pcm_fftMag_psySharpness_sma_pctlrange0-1'],\n",
       " ['pcm_fftMag_psySharpness_sma_stddev'],\n",
       " ['pcm_fftMag_spectralHarmonicity_sma_range'],\n",
       " ['mfcc_sma[1]_pctlrange0-1'],\n",
       " ['mfcc_sma[2]_range'],\n",
       " ['mfcc_sma[4]_percentile1.0'],\n",
       " ['mfcc_sma[6]_percentile1.0'],\n",
       " ['mfcc_sma[7]_upleveltime90'],\n",
       " ['mfcc_sma[8]_range'],\n",
       " ['mfcc_sma[11]_percentile99.0'],\n",
       " ['mfcc_sma[11]_upleveltime90'],\n",
       " ['mfcc_sma[12]_percentile1.0'],\n",
       " ['mfcc_sma[12]_stddev'],\n",
       " ['mfcc_sma[12]_skewness'],\n",
       " ['mfcc_sma[14]_range'],\n",
       " ['audSpec_Rfilt_sma_de[4]_maxPos'],\n",
       " ['audSpec_Rfilt_sma_de[4]_minPos'],\n",
       " ['audSpec_Rfilt_sma_de[7]_range'],\n",
       " ['audSpec_Rfilt_sma_de[7]_upleveltime25'],\n",
       " ['audSpec_Rfilt_sma_de[11]_range'],\n",
       " ['audSpec_Rfilt_sma_de[13]_range'],\n",
       " ['audSpec_Rfilt_sma_de[14]_range'],\n",
       " ['audSpec_Rfilt_sma_de[15]_quartile3'],\n",
       " ['audSpec_Rfilt_sma_de[16]_quartile3'],\n",
       " ['audSpec_Rfilt_sma_de[17]_range'],\n",
       " ['audSpec_Rfilt_sma_de[19]_range'],\n",
       " ['audSpec_Rfilt_sma_de[19]_upleveltime50'],\n",
       " ['audSpec_Rfilt_sma_de[20]_range'],\n",
       " ['audSpec_Rfilt_sma_de[22]_range'],\n",
       " ['audSpec_Rfilt_sma_de[22]_percentile1.0'],\n",
       " ['audSpec_Rfilt_sma_de[23]_range'],\n",
       " ['audSpec_Rfilt_sma_de[24]_range'],\n",
       " ['pcm_fftMag_fband250-650_sma_de_percentile1.0'],\n",
       " ['pcm_fftMag_fband250-650_sma_de_pctlrange0-1'],\n",
       " ['pcm_fftMag_fband1000-4000_sma_de_range'],\n",
       " ['pcm_fftMag_fband1000-4000_sma_de_percentile1.0'],\n",
       " ['pcm_fftMag_fband1000-4000_sma_de_percentile99.0'],\n",
       " ['pcm_fftMag_fband1000-4000_sma_de_pctlrange0-1'],\n",
       " ['pcm_fftMag_spectralFlux_sma_de_range'],\n",
       " ['pcm_fftMag_spectralVariance_sma_de_range'],\n",
       " ['pcm_fftMag_spectralSkewness_sma_de_lpgain'],\n",
       " ['pcm_fftMag_spectralKurtosis_sma_de_percentile1.0'],\n",
       " ['pcm_fftMag_spectralKurtosis_sma_de_lpgain'],\n",
       " ['pcm_fftMag_spectralSlope_sma_de_percentile1.0'],\n",
       " ['mfcc_sma_de[2]_iqr1-3'],\n",
       " ['mfcc_sma_de[3]_range'],\n",
       " ['mfcc_sma_de[3]_maxSegLen'],\n",
       " ['mfcc_sma_de[4]_range'],\n",
       " ['mfcc_sma_de[5]_range'],\n",
       " ['mfcc_sma_de[6]_range'],\n",
       " ['mfcc_sma_de[6]_percentile99.0'],\n",
       " ['mfcc_sma_de[6]_lpgain'],\n",
       " ['mfcc_sma_de[6]_lpc2'],\n",
       " ['mfcc_sma_de[7]_lpc1'],\n",
       " ['mfcc_sma_de[9]_upleveltime50'],\n",
       " ['mfcc_sma_de[10]_quartile3'],\n",
       " ['mfcc_sma_de[12]_upleveltime50'],\n",
       " ['F0final_sma_qregerrQ'],\n",
       " ['F0final_sma_quartile2'],\n",
       " ['F0final_sma_percentile1.0'],\n",
       " ['jitterLocal_sma_range'],\n",
       " ['shimmerLocal_sma_percentile99.0'],\n",
       " ['audspec_lengthL1norm_sma_qregerrQ'],\n",
       " ['pcm_RMSenergy_sma_minRangeRel'],\n",
       " ['pcm_zcr_sma_minRangeRel'],\n",
       " ['pcm_zcr_sma_linregerrQ'],\n",
       " ['audSpec_Rfilt_sma[0]_peakRangeAbs'],\n",
       " ['audSpec_Rfilt_sma[3]_stddevFallingSlope'],\n",
       " ['audSpec_Rfilt_sma[4]_peakRangeAbs'],\n",
       " ['audSpec_Rfilt_sma[8]_peakRangeAbs'],\n",
       " ['audSpec_Rfilt_sma[14]_minRangeRel'],\n",
       " ['audSpec_Rfilt_sma[19]_peakRangeAbs'],\n",
       " ['audSpec_Rfilt_sma[20]_peakRangeAbs'],\n",
       " ['audSpec_Rfilt_sma[21]_minRangeRel'],\n",
       " ['audSpec_Rfilt_sma[23]_peakRangeAbs'],\n",
       " ['pcm_fftMag_fband250-650_sma_meanRisingSlope'],\n",
       " ['pcm_fftMag_fband1000-4000_sma_rqmean'],\n",
       " ['pcm_fftMag_fband1000-4000_sma_peakMeanAbs'],\n",
       " ['pcm_fftMag_fband1000-4000_sma_meanRisingSlope'],\n",
       " ['pcm_fftMag_fband1000-4000_sma_stddevRisingSlope'],\n",
       " ['pcm_fftMag_fband1000-4000_sma_linregerrQ'],\n",
       " ['pcm_fftMag_fband1000-4000_sma_qregerrQ'],\n",
       " ['pcm_fftMag_spectralRollOff25.0_sma_qregerrQ'],\n",
       " ['pcm_fftMag_spectralRollOff50.0_sma_minRangeRel'],\n",
       " ['pcm_fftMag_spectralRollOff75.0_sma_peakRangeAbs'],\n",
       " ['pcm_fftMag_spectralRollOff75.0_sma_peakRangeRel'],\n",
       " ['pcm_fftMag_spectralRollOff90.0_sma_minRangeRel'],\n",
       " ['pcm_fftMag_spectralFlux_sma_peakRangeAbs'],\n",
       " ['pcm_fftMag_spectralCentroid_sma_peakRangeAbs'],\n",
       " ['pcm_fftMag_spectralSkewness_sma_peakRangeAbs'],\n",
       " ['pcm_fftMag_spectralSkewness_sma_linregerrQ'],\n",
       " ['pcm_fftMag_spectralKurtosis_sma_rqmean'],\n",
       " ['pcm_fftMag_spectralKurtosis_sma_peakRangeAbs'],\n",
       " ['pcm_fftMag_spectralKurtosis_sma_meanRisingSlope'],\n",
       " ['pcm_fftMag_spectralKurtosis_sma_stddevRisingSlope'],\n",
       " ['pcm_fftMag_spectralSlope_sma_peakRangeAbs'],\n",
       " ['pcm_fftMag_spectralSlope_sma_peakMeanAbs'],\n",
       " ['pcm_fftMag_spectralSlope_sma_meanFallingSlope'],\n",
       " ['pcm_fftMag_spectralHarmonicity_sma_minRangeRel'],\n",
       " ['mfcc_sma[2]_peakRangeRel'],\n",
       " ['mfcc_sma[3]_peakRangeRel'],\n",
       " ['mfcc_sma[4]_peakDistStddev'],\n",
       " ['mfcc_sma[6]_peakRangeAbs'],\n",
       " ['mfcc_sma[8]_peakRangeRel'],\n",
       " ['mfcc_sma[9]_peakRangeAbs'],\n",
       " ['mfcc_sma[12]_peakRangeRel'],\n",
       " ['mfcc_sma[14]_peakRangeRel'],\n",
       " ['mfcc_sma[14]_minRangeRel'],\n",
       " ['audspec_lengthL1norm_sma_de_posamean'],\n",
       " ['audspec_lengthL1norm_sma_de_peakRangeAbs'],\n",
       " ['audSpec_Rfilt_sma_de[3]_minRangeRel'],\n",
       " ['audSpec_Rfilt_sma_de[4]_stddevRisingSlope'],\n",
       " ['audSpec_Rfilt_sma_de[5]_minRangeRel'],\n",
       " ['audSpec_Rfilt_sma_de[5]_stddevRisingSlope'],\n",
       " ['audSpec_Rfilt_sma_de[6]_peakRangeRel'],\n",
       " ['audSpec_Rfilt_sma_de[7]_peakRangeAbs'],\n",
       " ['audSpec_Rfilt_sma_de[11]_peakRangeAbs'],\n",
       " ['audSpec_Rfilt_sma_de[15]_peakRangeRel'],\n",
       " ['audSpec_Rfilt_sma_de[21]_meanPeakDist'],\n",
       " ['audSpec_Rfilt_sma_de[22]_flatness'],\n",
       " ['pcm_fftMag_fband1000-4000_sma_de_peakRangeAbs'],\n",
       " ['pcm_fftMag_fband1000-4000_sma_de_stddevFallingSlope'],\n",
       " ['pcm_fftMag_spectralFlux_sma_de_peakRangeAbs'],\n",
       " ['pcm_fftMag_spectralFlux_sma_de_stddevFallingSlope'],\n",
       " ['pcm_fftMag_spectralEntropy_sma_de_peakRangeAbs'],\n",
       " ['pcm_fftMag_spectralVariance_sma_de_meanPeakDist'],\n",
       " ['pcm_fftMag_spectralSkewness_sma_de_posamean'],\n",
       " ['pcm_fftMag_spectralSkewness_sma_de_peakRangeAbs'],\n",
       " ['mfcc_sma_de[1]_peakRangeRel'],\n",
       " ['mfcc_sma_de[1]_minRangeRel'],\n",
       " ['mfcc_sma_de[2]_minRangeRel'],\n",
       " ['mfcc_sma_de[4]_peakRangeRel'],\n",
       " ['mfcc_sma_de[5]_peakMeanMeanDist'],\n",
       " ['mfcc_sma_de[7]_peakRangeRel'],\n",
       " ['mfcc_sma_de[7]_stddevFallingSlope'],\n",
       " ['mfcc_sma_de[13]_peakRangeRel']]"
      ]
     },
     "execution_count": 14,
     "metadata": {},
     "output_type": "execute_result"
    }
   ],
   "source": [
    "nf = 200\n",
    "\n",
    "#labels = np.tile(labels,(nf,1))\n",
    "#labels = np.transpose(labels)\n",
    "\n",
    "selector = SelectKBest(mutual_info_regression, k=nf)\n",
    "\n",
    "data_new = selector.fit_transform(data, labels)\n",
    "\n",
    "print(data_new.shape)\n",
    "\n",
    "index = selector.get_support(indices=True)\n",
    "\n",
    "selected_features = [your_list[x] for x in index]\n",
    "\n",
    "selected_features"
   ]
  },
  {
   "cell_type": "code",
   "execution_count": null,
   "metadata": {},
   "outputs": [],
   "source": []
  }
 ],
 "metadata": {
  "kernelspec": {
   "display_name": "Python 2",
   "language": "python",
   "name": "python2"
  },
  "language_info": {
   "codemirror_mode": {
    "name": "ipython",
    "version": 2
   },
   "file_extension": ".py",
   "mimetype": "text/x-python",
   "name": "python",
   "nbconvert_exporter": "python",
   "pygments_lexer": "ipython2",
   "version": "2.7.12"
  }
 },
 "nbformat": 4,
 "nbformat_minor": 2
}
