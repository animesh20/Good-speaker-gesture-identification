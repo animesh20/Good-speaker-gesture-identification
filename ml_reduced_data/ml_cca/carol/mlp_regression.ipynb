{
 "cells": [
  {
   "cell_type": "code",
   "execution_count": 54,
   "metadata": {},
   "outputs": [],
   "source": [
    "import csv\n",
    "import numpy as np\n",
    "from sklearn.decomposition import PCA\n",
    "import transposer\n",
    "from sklearn.neural_network import MLPRegressor\n",
    "from sklearn.model_selection import train_test_split\n",
    "import matplotlib.pyplot as plt"
   ]
  },
  {
   "cell_type": "markdown",
   "metadata": {},
   "source": [
    "# 10 features"
   ]
  },
  {
   "cell_type": "code",
   "execution_count": 55,
   "metadata": {},
   "outputs": [
    {
     "name": "stdout",
     "output_type": "stream",
     "text": [
      "(620, 10)\n"
     ]
    }
   ],
   "source": [
    "nf = 10\n",
    "\n",
    "filename = 'carol_audio_'+str(nf)+'.csv'\n",
    "\n",
    "with open(filename, 'rb') as f:\n",
    "    reader = csv.reader(f)\n",
    "    your_list = list(reader)\n",
    "    \n",
    "for i in xrange(0,len(your_list)):\n",
    "    your_list[i] = map(float,your_list[i])\n",
    "input_data = np.array(your_list)\n",
    "\n",
    "print(input_data.shape)"
   ]
  },
  {
   "cell_type": "code",
   "execution_count": 56,
   "metadata": {},
   "outputs": [
    {
     "name": "stdout",
     "output_type": "stream",
     "text": [
      "(620, 1)\n"
     ]
    }
   ],
   "source": [
    "with open('carol_eyeblink.csv', 'rb') as f:\n",
    "    reader = csv.reader(f)\n",
    "    your_list = list(reader)\n",
    "    \n",
    "for i in xrange(0,len(your_list)):\n",
    "    your_list[i] = map(float,your_list[i])\n",
    "labels = np.array(your_list)\n",
    "\n",
    "print(labels.shape)"
   ]
  },
  {
   "cell_type": "code",
   "execution_count": 57,
   "metadata": {},
   "outputs": [
    {
     "name": "stdout",
     "output_type": "stream",
     "text": [
      "(558, 10)\n",
      "(62, 10)\n",
      "(558, 1)\n",
      "(62, 1)\n"
     ]
    }
   ],
   "source": [
    "data_train, data_test, labels_train, labels_test = train_test_split(input_data, labels, test_size=0.10, random_state=42)\n",
    "\n",
    "print(data_train.shape)\n",
    "print(data_test.shape)\n",
    "print(labels_train.shape)\n",
    "print(labels_test.shape)"
   ]
  },
  {
   "cell_type": "code",
   "execution_count": 58,
   "metadata": {},
   "outputs": [
    {
     "name": "stdout",
     "output_type": "stream",
     "text": [
      "[ 0.04866282 -0.57196309 -0.27674397  0.12189279 -0.09905367]\n",
      "[[ 0.24312601]\n",
      " [-0.66910214]\n",
      " [ 0.17194849]\n",
      " [-0.34084122]\n",
      " [ 0.32480636]]\n"
     ]
    }
   ],
   "source": [
    "lm = MLPRegressor(hidden_layer_sizes=(500, 100))\n",
    "\n",
    "model = lm.fit(data_train,labels_train)\n",
    "\n",
    "predictions = lm.predict(data_test)\n",
    "\n",
    "print(predictions)[0:5]\n",
    "\n",
    "print(labels_test)[0:5]"
   ]
  },
  {
   "cell_type": "code",
   "execution_count": 59,
   "metadata": {},
   "outputs": [
    {
     "data": {
      "text/plain": [
       "0.0045411863740829617"
      ]
     },
     "execution_count": 59,
     "metadata": {},
     "output_type": "execute_result"
    }
   ],
   "source": [
    "lm.score(data_test,labels_test)"
   ]
  },
  {
   "cell_type": "code",
   "execution_count": 60,
   "metadata": {},
   "outputs": [],
   "source": [
    "line_up, = plt.plot(labels_test, label='Target values')\n",
    "line_down, = plt.plot(predictions, label='Predicted values')\n",
    "plt.legend(handles=[line_up, line_down])\n",
    "plt.ylabel('measure of eye blinks')\n",
    "plt.xlabel('5 second windows')\n",
    "#plt.show()\n",
    "plt.savefig('mlp_carol10.pdf')\n",
    "plt.gcf().clear()"
   ]
  },
  {
   "cell_type": "markdown",
   "metadata": {},
   "source": [
    "# 20 features"
   ]
  },
  {
   "cell_type": "code",
   "execution_count": 61,
   "metadata": {},
   "outputs": [
    {
     "data": {
      "text/plain": [
       "0.342261276516169"
      ]
     },
     "execution_count": 61,
     "metadata": {},
     "output_type": "execute_result"
    }
   ],
   "source": [
    "nf = 20\n",
    "\n",
    "filename = 'carol_audio_'+str(nf)+'.csv'\n",
    "\n",
    "with open(filename, 'rb') as f:\n",
    "    reader = csv.reader(f)\n",
    "    your_list = list(reader)\n",
    "    \n",
    "for i in xrange(0,len(your_list)):\n",
    "    your_list[i] = map(float,your_list[i])\n",
    "input_data = np.array(your_list)\n",
    "\n",
    "#print(input_data.shape)\n",
    "\n",
    "with open('carol_eyeblink.csv', 'rb') as f:\n",
    "    reader = csv.reader(f)\n",
    "    your_list = list(reader)\n",
    "    \n",
    "for i in xrange(0,len(your_list)):\n",
    "    your_list[i] = map(float,your_list[i])\n",
    "labels = np.array(your_list)\n",
    "\n",
    "#print(labels.shape)\n",
    "\n",
    "data_train, data_test, labels_train, labels_test = train_test_split(input_data, labels, test_size=0.10, random_state=42)\n",
    "\n",
    "#print(data_train.shape)\n",
    "#print(data_test.shape)\n",
    "#print(labels_train.shape)\n",
    "#print(labels_test.shape)\n",
    "\n",
    "lm = MLPRegressor(hidden_layer_sizes=(500, 100))\n",
    "\n",
    "model = lm.fit(data_train,labels_train)\n",
    "\n",
    "predictions = lm.predict(data_test)\n",
    "\n",
    "#print(predictions)[0:5]\n",
    "\n",
    "#print(labels_test)[0:5]\n",
    "\n",
    "lm.score(data_test,labels_test)"
   ]
  },
  {
   "cell_type": "code",
   "execution_count": 62,
   "metadata": {},
   "outputs": [],
   "source": [
    "line_up, = plt.plot(labels_test, label='Target values')\n",
    "line_down, = plt.plot(predictions, label='Predicted values')\n",
    "plt.legend(handles=[line_up, line_down])\n",
    "plt.ylabel('measure of eye blinks')\n",
    "plt.xlabel('5 second windows')\n",
    "#plt.show()\n",
    "plt.savefig('mlp_carol20.pdf')\n",
    "plt.gcf().clear()"
   ]
  },
  {
   "cell_type": "markdown",
   "metadata": {},
   "source": [
    "# 50 features"
   ]
  },
  {
   "cell_type": "code",
   "execution_count": 63,
   "metadata": {},
   "outputs": [
    {
     "data": {
      "text/plain": [
       "0.35900085134752624"
      ]
     },
     "execution_count": 63,
     "metadata": {},
     "output_type": "execute_result"
    }
   ],
   "source": [
    "nf = 50\n",
    "\n",
    "filename = 'carol_audio_'+str(nf)+'.csv'\n",
    "\n",
    "with open(filename, 'rb') as f:\n",
    "    reader = csv.reader(f)\n",
    "    your_list = list(reader)\n",
    "    \n",
    "for i in xrange(0,len(your_list)):\n",
    "    your_list[i] = map(float,your_list[i])\n",
    "input_data = np.array(your_list)\n",
    "\n",
    "#print(input_data.shape)\n",
    "\n",
    "with open('carol_eyeblink.csv', 'rb') as f:\n",
    "    reader = csv.reader(f)\n",
    "    your_list = list(reader)\n",
    "    \n",
    "for i in xrange(0,len(your_list)):\n",
    "    your_list[i] = map(float,your_list[i])\n",
    "labels = np.array(your_list)\n",
    "\n",
    "#print(labels.shape)\n",
    "\n",
    "data_train, data_test, labels_train, labels_test = train_test_split(input_data, labels, test_size=0.10, random_state=42)\n",
    "\n",
    "#print(data_train.shape)\n",
    "#print(data_test.shape)\n",
    "#print(labels_train.shape)\n",
    "#print(labels_test.shape)\n",
    "\n",
    "lm = MLPRegressor(hidden_layer_sizes=(500, 100))\n",
    "\n",
    "model = lm.fit(data_train,labels_train)\n",
    "\n",
    "predictions = lm.predict(data_test)\n",
    "\n",
    "#print(predictions)[0:5]\n",
    "\n",
    "#print(labels_test)[0:5]\n",
    "\n",
    "lm.score(data_test,labels_test)"
   ]
  },
  {
   "cell_type": "code",
   "execution_count": 64,
   "metadata": {},
   "outputs": [],
   "source": [
    "line_up, = plt.plot(labels_test, label='Target values')\n",
    "line_down, = plt.plot(predictions, label='Predicted values')\n",
    "plt.legend(handles=[line_up, line_down])\n",
    "plt.ylabel('measure of eye blinks')\n",
    "plt.xlabel('5 second windows')\n",
    "#plt.show()\n",
    "plt.savefig('mlp_carol50.pdf')\n",
    "plt.gcf().clear()"
   ]
  },
  {
   "cell_type": "markdown",
   "metadata": {},
   "source": [
    "# 100 features"
   ]
  },
  {
   "cell_type": "code",
   "execution_count": 65,
   "metadata": {},
   "outputs": [
    {
     "data": {
      "text/plain": [
       "0.39413108314035938"
      ]
     },
     "execution_count": 65,
     "metadata": {},
     "output_type": "execute_result"
    }
   ],
   "source": [
    "nf = 100\n",
    "\n",
    "filename = 'carol_audio_'+str(nf)+'.csv'\n",
    "\n",
    "with open(filename, 'rb') as f:\n",
    "    reader = csv.reader(f)\n",
    "    your_list = list(reader)\n",
    "    \n",
    "for i in xrange(0,len(your_list)):\n",
    "    your_list[i] = map(float,your_list[i])\n",
    "input_data = np.array(your_list)\n",
    "\n",
    "#print(input_data.shape)\n",
    "\n",
    "with open('carol_eyeblink.csv', 'rb') as f:\n",
    "    reader = csv.reader(f)\n",
    "    your_list = list(reader)\n",
    "    \n",
    "for i in xrange(0,len(your_list)):\n",
    "    your_list[i] = map(float,your_list[i])\n",
    "labels = np.array(your_list)\n",
    "\n",
    "#print(labels.shape)\n",
    "\n",
    "data_train, data_test, labels_train, labels_test = train_test_split(input_data, labels, test_size=0.10, random_state=42)\n",
    "\n",
    "#print(data_train.shape)\n",
    "#print(data_test.shape)\n",
    "#print(labels_train.shape)\n",
    "#print(labels_test.shape)\n",
    "\n",
    "lm = MLPRegressor(hidden_layer_sizes=(500, 100))\n",
    "\n",
    "model = lm.fit(data_train,labels_train)\n",
    "\n",
    "predictions = lm.predict(data_test)\n",
    "\n",
    "#print(predictions)[0:5]\n",
    "\n",
    "#print(labels_test)[0:5]\n",
    "\n",
    "lm.score(data_test,labels_test)"
   ]
  },
  {
   "cell_type": "code",
   "execution_count": 66,
   "metadata": {},
   "outputs": [],
   "source": [
    "line_up, = plt.plot(labels_test, label='Target values')\n",
    "line_down, = plt.plot(predictions, label='Predicted values')\n",
    "plt.legend(handles=[line_up, line_down])\n",
    "plt.ylabel('measure of eye blinks')\n",
    "plt.xlabel('5 second windows')\n",
    "#plt.show()\n",
    "plt.savefig('mlp_carol100.pdf')\n",
    "plt.gcf().clear()"
   ]
  },
  {
   "cell_type": "markdown",
   "metadata": {},
   "source": [
    "# 200 features"
   ]
  },
  {
   "cell_type": "code",
   "execution_count": 67,
   "metadata": {},
   "outputs": [
    {
     "data": {
      "text/plain": [
       "0.20401589316848368"
      ]
     },
     "execution_count": 67,
     "metadata": {},
     "output_type": "execute_result"
    }
   ],
   "source": [
    "nf = 200\n",
    "\n",
    "filename = 'carol_audio_'+str(nf)+'.csv'\n",
    "\n",
    "with open(filename, 'rb') as f:\n",
    "    reader = csv.reader(f)\n",
    "    your_list = list(reader)\n",
    "    \n",
    "for i in xrange(0,len(your_list)):\n",
    "    your_list[i] = map(float,your_list[i])\n",
    "input_data = np.array(your_list)\n",
    "\n",
    "#print(input_data.shape)\n",
    "\n",
    "with open('carol_eyeblink.csv', 'rb') as f:\n",
    "    reader = csv.reader(f)\n",
    "    your_list = list(reader)\n",
    "    \n",
    "for i in xrange(0,len(your_list)):\n",
    "    your_list[i] = map(float,your_list[i])\n",
    "labels = np.array(your_list)\n",
    "\n",
    "#print(labels.shape)\n",
    "\n",
    "data_train, data_test, labels_train, labels_test = train_test_split(input_data, labels, test_size=0.10, random_state=42)\n",
    "\n",
    "#print(data_train.shape)\n",
    "#print(data_test.shape)\n",
    "#print(labels_train.shape)\n",
    "#print(labels_test.shape)\n",
    "\n",
    "lm = MLPRegressor(hidden_layer_sizes=(500, 100))\n",
    "\n",
    "model = lm.fit(data_train,labels_train)\n",
    "\n",
    "predictions = lm.predict(data_test)\n",
    "\n",
    "#print(predictions)[0:5]\n",
    "\n",
    "#print(labels_test)[0:5]\n",
    "\n",
    "lm.score(data_test,labels_test)"
   ]
  },
  {
   "cell_type": "code",
   "execution_count": 68,
   "metadata": {},
   "outputs": [],
   "source": [
    "line_up, = plt.plot(labels_test, label='Target values')\n",
    "line_down, = plt.plot(predictions, label='Predicted values')\n",
    "plt.legend(handles=[line_up, line_down])\n",
    "plt.ylabel('measure of eye blinks')\n",
    "plt.xlabel('5 second windows')\n",
    "#plt.show()\n",
    "plt.savefig('mlp_carol200.pdf')\n",
    "plt.gcf().clear()"
   ]
  },
  {
   "cell_type": "code",
   "execution_count": null,
   "metadata": {},
   "outputs": [],
   "source": []
  }
 ],
 "metadata": {
  "kernelspec": {
   "display_name": "Python 2",
   "language": "python",
   "name": "python2"
  },
  "language_info": {
   "codemirror_mode": {
    "name": "ipython",
    "version": 2
   },
   "file_extension": ".py",
   "mimetype": "text/x-python",
   "name": "python",
   "nbconvert_exporter": "python",
   "pygments_lexer": "ipython2",
   "version": "2.7.12"
  }
 },
 "nbformat": 4,
 "nbformat_minor": 2
}
