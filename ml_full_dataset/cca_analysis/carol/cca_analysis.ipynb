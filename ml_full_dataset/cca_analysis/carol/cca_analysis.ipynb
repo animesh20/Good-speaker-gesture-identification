{
 "cells": [
  {
   "cell_type": "code",
   "execution_count": 1,
   "metadata": {},
   "outputs": [],
   "source": [
    "import csv\n",
    "import numpy as np\n",
    "from sklearn.feature_selection import SelectKBest\n",
    "from sklearn.feature_selection import mutual_info_regression\n",
    "import transposer"
   ]
  },
  {
   "cell_type": "markdown",
   "metadata": {},
   "source": [
    "# Carol Video"
   ]
  },
  {
   "cell_type": "code",
   "execution_count": 2,
   "metadata": {},
   "outputs": [],
   "source": [
    "with open('carol_audio_features.csv', 'rb') as f:\n",
    "    reader = csv.reader(f)\n",
    "    your_list = list(reader)\n",
    "    \n",
    "for i in xrange(0,len(your_list)):\n",
    "    your_list[i] = map(float,your_list[i])\n",
    "data = np.array(your_list)"
   ]
  },
  {
   "cell_type": "code",
   "execution_count": 3,
   "metadata": {},
   "outputs": [
    {
     "name": "stdout",
     "output_type": "stream",
     "text": [
      "(6373, 620)\n",
      "(620, 6373)\n"
     ]
    }
   ],
   "source": [
    "print(data.shape)\n",
    "\n",
    "data = np.transpose(data)\n",
    "\n",
    "print(data.shape)"
   ]
  },
  {
   "cell_type": "code",
   "execution_count": 4,
   "metadata": {},
   "outputs": [
    {
     "name": "stdout",
     "output_type": "stream",
     "text": [
      "(620, 1)\n"
     ]
    }
   ],
   "source": [
    "with open('carol_eyeblink.csv', 'rb') as f:\n",
    "    reader = csv.reader(f)\n",
    "    your_list = list(reader)\n",
    "    \n",
    "for i in xrange(0,len(your_list)):\n",
    "    your_list[i] = map(float,your_list[i])\n",
    "labels = np.array(your_list)\n",
    "\n",
    "#labels = labels.reshape((len(labels),))\n",
    "\n",
    "print(labels.shape)"
   ]
  },
  {
   "cell_type": "code",
   "execution_count": 13,
   "metadata": {},
   "outputs": [
    {
     "name": "stdout",
     "output_type": "stream",
     "text": [
      "(620, 10)\n"
     ]
    }
   ],
   "source": [
    "nf = 10\n",
    "\n",
    "#labels = np.tile(labels,(nf,1))\n",
    "#labels = np.transpose(labels)\n",
    "\n",
    "selector = SelectKBest(mutual_info_regression, k=nf)\n",
    "\n",
    "data_new = selector.fit_transform(data, labels)\n",
    "\n",
    "print(data_new.shape)\n",
    "\n",
    "index = selector.get_support(indices=True)"
   ]
  },
  {
   "cell_type": "code",
   "execution_count": 14,
   "metadata": {},
   "outputs": [
    {
     "name": "stdout",
     "output_type": "stream",
     "text": [
      "6373\n"
     ]
    }
   ],
   "source": [
    "with open('feature_names.csv', 'rb') as f:\n",
    "    reader = csv.reader(f)\n",
    "    your_list = list(reader)\n",
    "    \n",
    "print(len(your_list))"
   ]
  },
  {
   "cell_type": "code",
   "execution_count": 15,
   "metadata": {},
   "outputs": [
    {
     "data": {
      "text/plain": [
       "[['audspec_lengthL1norm_sma_stddev'],\n",
       " ['audSpec_Rfilt_sma[0]_range'],\n",
       " ['audSpec_Rfilt_sma[19]_percentile1.0'],\n",
       " ['audSpec_Rfilt_sma[24]_range'],\n",
       " ['audSpec_Rfilt_sma[25]_percentile1.0'],\n",
       " ['pcm_fftMag_spectralRollOff75.0_sma_leftctime'],\n",
       " ['mfcc_sma[2]_range'],\n",
       " ['mfcc_sma[4]_percentile1.0'],\n",
       " ['mfcc_sma[8]_percentile99.0'],\n",
       " ['mfcc_sma_de[4]_range']]"
      ]
     },
     "execution_count": 15,
     "metadata": {},
     "output_type": "execute_result"
    }
   ],
   "source": [
    "selected_features = [your_list[x] for x in index]\n",
    "\n",
    "selected_features"
   ]
  },
  {
   "cell_type": "code",
   "execution_count": 137,
   "metadata": {},
   "outputs": [],
   "source": [
    "#subtracting mean\n",
    "data_new -= np.mean(data_new, axis = 0)\n",
    "\n",
    "#dividing by standard deviation\n",
    "data_new /= np.std(data_new, axis = 0)"
   ]
  },
  {
   "cell_type": "code",
   "execution_count": 138,
   "metadata": {},
   "outputs": [
    {
     "data": {
      "text/plain": [
       "(620, 200)"
      ]
     },
     "execution_count": 138,
     "metadata": {},
     "output_type": "execute_result"
    }
   ],
   "source": [
    "filename = 'carol_audio_'+str(nf)+'.csv'\n",
    "\n",
    "np.savetxt(filename, data_new, delimiter=\",\")\n",
    "\n",
    "data_new.shape"
   ]
  },
  {
   "cell_type": "code",
   "execution_count": 16,
   "metadata": {},
   "outputs": [
    {
     "name": "stdout",
     "output_type": "stream",
     "text": [
      "(620, 20)\n"
     ]
    },
    {
     "data": {
      "text/plain": [
       "[['audspec_lengthL1norm_sma_quartile2'],\n",
       " ['audspec_lengthL1norm_sma_iqr1-3'],\n",
       " ['audspec_lengthL1norm_sma_stddev'],\n",
       " ['audspec_lengthL1norm_sma_kurtosis'],\n",
       " ['audSpec_Rfilt_sma[0]_range'],\n",
       " ['audSpec_Rfilt_sma[5]_range'],\n",
       " ['audSpec_Rfilt_sma[19]_percentile1.0'],\n",
       " ['audSpec_Rfilt_sma[24]_range'],\n",
       " ['audSpec_Rfilt_sma[25]_percentile1.0'],\n",
       " ['pcm_fftMag_spectralRollOff75.0_sma_leftctime'],\n",
       " ['mfcc_sma[2]_range'],\n",
       " ['mfcc_sma[4]_percentile1.0'],\n",
       " ['mfcc_sma[8]_percentile99.0'],\n",
       " ['mfcc_sma[14]_stddev'],\n",
       " ['audSpec_Rfilt_sma_de[25]_quartile2'],\n",
       " ['pcm_fftMag_fband1000-4000_sma_de_skewness'],\n",
       " ['mfcc_sma_de[4]_range'],\n",
       " ['F0final_sma_quartile1'],\n",
       " ['audSpec_Rfilt_sma_de[10]_posamean'],\n",
       " ['mfcc_sma_de[2]_stddevFallingSlope']]"
      ]
     },
     "execution_count": 16,
     "metadata": {},
     "output_type": "execute_result"
    }
   ],
   "source": [
    "nf = 20\n",
    "\n",
    "#labels = np.tile(labels,(nf,1))\n",
    "#labels = np.transpose(labels)\n",
    "\n",
    "selector = SelectKBest(mutual_info_regression, k=nf)\n",
    "\n",
    "data_new = selector.fit_transform(data, labels)\n",
    "\n",
    "print(data_new.shape)\n",
    "\n",
    "index = selector.get_support(indices=True)\n",
    "\n",
    "selected_features = [your_list[x] for x in index]\n",
    "\n",
    "selected_features"
   ]
  },
  {
   "cell_type": "code",
   "execution_count": 17,
   "metadata": {},
   "outputs": [
    {
     "name": "stdout",
     "output_type": "stream",
     "text": [
      "(620, 50)\n"
     ]
    },
    {
     "data": {
      "text/plain": [
       "[['audspec_lengthL1norm_sma_quartile2'],\n",
       " ['audspec_lengthL1norm_sma_iqr1-3'],\n",
       " ['audspec_lengthL1norm_sma_stddev'],\n",
       " ['audspec_lengthL1norm_sma_kurtosis'],\n",
       " ['audSpec_Rfilt_sma[0]_range'],\n",
       " ['audSpec_Rfilt_sma[0]_skewness'],\n",
       " ['audSpec_Rfilt_sma[1]_quartile2'],\n",
       " ['audSpec_Rfilt_sma[5]_range'],\n",
       " ['audSpec_Rfilt_sma[14]_quartile2'],\n",
       " ['audSpec_Rfilt_sma[17]_iqr1-2'],\n",
       " ['audSpec_Rfilt_sma[19]_percentile1.0'],\n",
       " ['audSpec_Rfilt_sma[24]_range'],\n",
       " ['audSpec_Rfilt_sma[25]_percentile1.0'],\n",
       " ['pcm_fftMag_fband1000-4000_sma_iqr2-3'],\n",
       " ['pcm_fftMag_spectralRollOff75.0_sma_leftctime'],\n",
       " ['pcm_fftMag_spectralHarmonicity_sma_range'],\n",
       " ['mfcc_sma[2]_range'],\n",
       " ['mfcc_sma[4]_percentile1.0'],\n",
       " ['mfcc_sma[8]_percentile99.0'],\n",
       " ['mfcc_sma[9]_quartile3'],\n",
       " ['mfcc_sma[13]_iqr1-2'],\n",
       " ['mfcc_sma[14]_stddev'],\n",
       " ['audSpec_Rfilt_sma_de[9]_range'],\n",
       " ['audSpec_Rfilt_sma_de[10]_range'],\n",
       " ['audSpec_Rfilt_sma_de[11]_range'],\n",
       " ['audSpec_Rfilt_sma_de[15]_skewness'],\n",
       " ['audSpec_Rfilt_sma_de[19]_kurtosis'],\n",
       " ['audSpec_Rfilt_sma_de[22]_range'],\n",
       " ['audSpec_Rfilt_sma_de[25]_quartile2'],\n",
       " ['audSpec_Rfilt_sma_de[25]_pctlrange0-1'],\n",
       " ['pcm_fftMag_fband1000-4000_sma_de_percentile1.0'],\n",
       " ['pcm_fftMag_fband1000-4000_sma_de_skewness'],\n",
       " ['pcm_fftMag_spectralFlux_sma_de_pctlrange0-1'],\n",
       " ['pcm_fftMag_spectralKurtosis_sma_de_segLenStddev'],\n",
       " ['pcm_fftMag_spectralHarmonicity_sma_de_percentile1.0'],\n",
       " ['mfcc_sma_de[4]_range'],\n",
       " ['F0final_sma_quartile1'],\n",
       " ['F0final_sma_iqr1-2'],\n",
       " ['F0final_sma_risetime'],\n",
       " ['audspec_lengthL1norm_sma_rqmean'],\n",
       " ['pcm_fftMag_spectralRollOff50.0_sma_peakMeanMeanDist'],\n",
       " ['pcm_fftMag_spectralHarmonicity_sma_rqmean'],\n",
       " ['mfcc_sma[2]_stddevFallingSlope'],\n",
       " ['mfcc_sma[5]_peakRangeAbs'],\n",
       " ['mfcc_sma[6]_peakRangeAbs'],\n",
       " ['audSpec_Rfilt_sma_de[10]_posamean'],\n",
       " ['mfcc_sma_de[2]_stddevFallingSlope'],\n",
       " ['mfcc_sma_de[7]_peakRangeAbs'],\n",
       " ['mfcc_sma_de[7]_minRangeRel'],\n",
       " ['mfcc_sma_de[10]_rqmean']]"
      ]
     },
     "execution_count": 17,
     "metadata": {},
     "output_type": "execute_result"
    }
   ],
   "source": [
    "nf = 50\n",
    "\n",
    "#labels = np.tile(labels,(nf,1))\n",
    "#labels = np.transpose(labels)\n",
    "\n",
    "selector = SelectKBest(mutual_info_regression, k=nf)\n",
    "\n",
    "data_new = selector.fit_transform(data, labels)\n",
    "\n",
    "print(data_new.shape)\n",
    "\n",
    "index = selector.get_support(indices=True)\n",
    "\n",
    "selected_features = [your_list[x] for x in index]\n",
    "\n",
    "selected_features"
   ]
  },
  {
   "cell_type": "code",
   "execution_count": 18,
   "metadata": {},
   "outputs": [
    {
     "name": "stdout",
     "output_type": "stream",
     "text": [
      "(620, 100)\n"
     ]
    },
    {
     "data": {
      "text/plain": [
       "[['audspec_lengthL1norm_sma_range'],\n",
       " ['audspec_lengthL1norm_sma_quartile2'],\n",
       " ['audspec_lengthL1norm_sma_iqr1-3'],\n",
       " ['audspec_lengthL1norm_sma_stddev'],\n",
       " ['audspec_lengthL1norm_sma_kurtosis'],\n",
       " ['pcm_RMSenergy_sma_quartile1'],\n",
       " ['pcm_zcr_sma_percentile1.0'],\n",
       " ['audSpec_Rfilt_sma[0]_range'],\n",
       " ['audSpec_Rfilt_sma[0]_skewness'],\n",
       " ['audSpec_Rfilt_sma[1]_quartile2'],\n",
       " ['audSpec_Rfilt_sma[5]_range'],\n",
       " ['audSpec_Rfilt_sma[12]_range'],\n",
       " ['audSpec_Rfilt_sma[14]_quartile2'],\n",
       " ['audSpec_Rfilt_sma[17]_iqr1-2'],\n",
       " ['audSpec_Rfilt_sma[19]_percentile1.0'],\n",
       " ['audSpec_Rfilt_sma[22]_maxSegLen'],\n",
       " ['audSpec_Rfilt_sma[23]_iqr1-2'],\n",
       " ['audSpec_Rfilt_sma[24]_range'],\n",
       " ['audSpec_Rfilt_sma[24]_percentile1.0'],\n",
       " ['audSpec_Rfilt_sma[25]_percentile1.0'],\n",
       " ['pcm_fftMag_fband1000-4000_sma_iqr2-3'],\n",
       " ['pcm_fftMag_spectralRollOff75.0_sma_leftctime'],\n",
       " ['pcm_fftMag_spectralEntropy_sma_upleveltime25'],\n",
       " ['pcm_fftMag_spectralHarmonicity_sma_range'],\n",
       " ['mfcc_sma[2]_range'],\n",
       " ['mfcc_sma[3]_percentile99.0'],\n",
       " ['mfcc_sma[4]_percentile1.0'],\n",
       " ['mfcc_sma[4]_percentile99.0'],\n",
       " ['mfcc_sma[6]_quartile1'],\n",
       " ['mfcc_sma[7]_iqr2-3'],\n",
       " ['mfcc_sma[8]_range'],\n",
       " ['mfcc_sma[8]_percentile99.0'],\n",
       " ['mfcc_sma[9]_quartile3'],\n",
       " ['mfcc_sma[13]_iqr1-2'],\n",
       " ['mfcc_sma[14]_pctlrange0-1'],\n",
       " ['mfcc_sma[14]_stddev'],\n",
       " ['audSpec_Rfilt_sma_de[2]_percentile99.0'],\n",
       " ['audSpec_Rfilt_sma_de[3]_stddev'],\n",
       " ['audSpec_Rfilt_sma_de[5]_range'],\n",
       " ['audSpec_Rfilt_sma_de[5]_quartile1'],\n",
       " ['audSpec_Rfilt_sma_de[8]_range'],\n",
       " ['audSpec_Rfilt_sma_de[9]_range'],\n",
       " ['audSpec_Rfilt_sma_de[10]_range'],\n",
       " ['audSpec_Rfilt_sma_de[10]_pctlrange0-1'],\n",
       " ['audSpec_Rfilt_sma_de[11]_range'],\n",
       " ['audSpec_Rfilt_sma_de[15]_skewness'],\n",
       " ['audSpec_Rfilt_sma_de[19]_kurtosis'],\n",
       " ['audSpec_Rfilt_sma_de[22]_range'],\n",
       " ['audSpec_Rfilt_sma_de[24]_percentile1.0'],\n",
       " ['audSpec_Rfilt_sma_de[25]_quartile2'],\n",
       " ['audSpec_Rfilt_sma_de[25]_pctlrange0-1'],\n",
       " ['pcm_fftMag_fband1000-4000_sma_de_percentile1.0'],\n",
       " ['pcm_fftMag_fband1000-4000_sma_de_percentile99.0'],\n",
       " ['pcm_fftMag_fband1000-4000_sma_de_skewness'],\n",
       " ['pcm_fftMag_spectralRollOff25.0_sma_de_range'],\n",
       " ['pcm_fftMag_spectralFlux_sma_de_pctlrange0-1'],\n",
       " ['pcm_fftMag_spectralKurtosis_sma_de_segLenStddev'],\n",
       " ['pcm_fftMag_spectralHarmonicity_sma_de_percentile1.0'],\n",
       " ['mfcc_sma_de[1]_risetime'],\n",
       " ['mfcc_sma_de[4]_range'],\n",
       " ['mfcc_sma_de[10]_stddev'],\n",
       " ['mfcc_sma_de[12]_quartile3'],\n",
       " ['F0final_sma_quartile1'],\n",
       " ['F0final_sma_quartile2'],\n",
       " ['F0final_sma_iqr1-2'],\n",
       " ['F0final_sma_risetime'],\n",
       " ['audspec_lengthL1norm_sma_rqmean'],\n",
       " ['audspec_lengthL1norm_sma_peakRangeRel'],\n",
       " ['pcm_RMSenergy_sma_linregerrQ'],\n",
       " ['pcm_RMSenergy_sma_qregerrQ'],\n",
       " ['audSpec_Rfilt_sma[0]_peakRangeAbs'],\n",
       " ['audSpec_Rfilt_sma[3]_stddevFallingSlope'],\n",
       " ['audSpec_Rfilt_sma[5]_peakRangeAbs'],\n",
       " ['audSpec_Rfilt_sma[5]_stddevRisingSlope'],\n",
       " ['audSpec_Rfilt_sma[12]_peakRangeAbs'],\n",
       " ['audSpec_Rfilt_sma[22]_rqmean'],\n",
       " ['pcm_fftMag_fband250-650_sma_peakMeanAbs'],\n",
       " ['pcm_fftMag_spectralRollOff50.0_sma_peakMeanMeanDist'],\n",
       " ['pcm_fftMag_spectralHarmonicity_sma_rqmean'],\n",
       " ['pcm_fftMag_spectralHarmonicity_sma_meanRisingSlope'],\n",
       " ['mfcc_sma[2]_stddevFallingSlope'],\n",
       " ['mfcc_sma[3]_peakRangeAbs'],\n",
       " ['mfcc_sma[3]_meanFallingSlope'],\n",
       " ['mfcc_sma[5]_peakRangeAbs'],\n",
       " ['mfcc_sma[6]_meanPeakDist'],\n",
       " ['mfcc_sma[6]_peakRangeAbs'],\n",
       " ['mfcc_sma[10]_rqmean'],\n",
       " ['mfcc_sma[12]_meanFallingSlope'],\n",
       " ['audSpec_Rfilt_sma_de[3]_rqmean'],\n",
       " ['audSpec_Rfilt_sma_de[10]_posamean'],\n",
       " ['audSpec_Rfilt_sma_de[18]_rqmean'],\n",
       " ['pcm_fftMag_fband250-650_sma_de_meanRisingSlope'],\n",
       " ['pcm_fftMag_psySharpness_sma_de_stddevRisingSlope'],\n",
       " ['mfcc_sma_de[1]_peakRangeRel'],\n",
       " ['mfcc_sma_de[2]_stddevFallingSlope'],\n",
       " ['mfcc_sma_de[5]_flatness'],\n",
       " ['mfcc_sma_de[6]_peakRangeAbs'],\n",
       " ['mfcc_sma_de[7]_peakRangeAbs'],\n",
       " ['mfcc_sma_de[7]_minRangeRel'],\n",
       " ['mfcc_sma_de[10]_rqmean']]"
      ]
     },
     "execution_count": 18,
     "metadata": {},
     "output_type": "execute_result"
    }
   ],
   "source": [
    "nf = 100\n",
    "\n",
    "#labels = np.tile(labels,(nf,1))\n",
    "#labels = np.transpose(labels)\n",
    "\n",
    "selector = SelectKBest(mutual_info_regression, k=nf)\n",
    "\n",
    "data_new = selector.fit_transform(data, labels)\n",
    "\n",
    "print(data_new.shape)\n",
    "\n",
    "index = selector.get_support(indices=True)\n",
    "\n",
    "selected_features = [your_list[x] for x in index]\n",
    "\n",
    "selected_features"
   ]
  },
  {
   "cell_type": "code",
   "execution_count": 19,
   "metadata": {},
   "outputs": [
    {
     "name": "stdout",
     "output_type": "stream",
     "text": [
      "(620, 200)\n"
     ]
    },
    {
     "data": {
      "text/plain": [
       "[['audspec_lengthL1norm_sma_range'],\n",
       " ['audspec_lengthL1norm_sma_quartile2'],\n",
       " ['audspec_lengthL1norm_sma_iqr1-3'],\n",
       " ['audspec_lengthL1norm_sma_stddev'],\n",
       " ['audspec_lengthL1norm_sma_kurtosis'],\n",
       " ['pcm_RMSenergy_sma_quartile1'],\n",
       " ['pcm_RMSenergy_sma_iqr1-3'],\n",
       " ['pcm_RMSenergy_sma_percentile99.0'],\n",
       " ['pcm_RMSenergy_sma_pctlrange0-1'],\n",
       " ['pcm_zcr_sma_percentile1.0'],\n",
       " ['audspecRasta_lengthL1norm_sma_de_quartile2'],\n",
       " ['audSpec_Rfilt_sma[0]_range'],\n",
       " ['audSpec_Rfilt_sma[0]_skewness'],\n",
       " ['audSpec_Rfilt_sma[1]_quartile2'],\n",
       " ['audSpec_Rfilt_sma[2]_risetime'],\n",
       " ['audSpec_Rfilt_sma[5]_range'],\n",
       " ['audSpec_Rfilt_sma[7]_quartile3'],\n",
       " ['audSpec_Rfilt_sma[11]_range'],\n",
       " ['audSpec_Rfilt_sma[12]_range'],\n",
       " ['audSpec_Rfilt_sma[14]_quartile2'],\n",
       " ['audSpec_Rfilt_sma[15]_percentile1.0'],\n",
       " ['audSpec_Rfilt_sma[16]_leftctime'],\n",
       " ['audSpec_Rfilt_sma[17]_iqr1-2'],\n",
       " ['audSpec_Rfilt_sma[18]_range'],\n",
       " ['audSpec_Rfilt_sma[18]_kurtosis'],\n",
       " ['audSpec_Rfilt_sma[19]_percentile1.0'],\n",
       " ['audSpec_Rfilt_sma[19]_percentile99.0'],\n",
       " ['audSpec_Rfilt_sma[22]_range'],\n",
       " ['audSpec_Rfilt_sma[22]_percentile1.0'],\n",
       " ['audSpec_Rfilt_sma[22]_percentile99.0'],\n",
       " ['audSpec_Rfilt_sma[22]_pctlrange0-1'],\n",
       " ['audSpec_Rfilt_sma[22]_maxSegLen'],\n",
       " ['audSpec_Rfilt_sma[22]_upleveltime50'],\n",
       " ['audSpec_Rfilt_sma[23]_iqr1-2'],\n",
       " ['audSpec_Rfilt_sma[24]_range'],\n",
       " ['audSpec_Rfilt_sma[24]_percentile1.0'],\n",
       " ['audSpec_Rfilt_sma[24]_risetime'],\n",
       " ['audSpec_Rfilt_sma[25]_percentile1.0'],\n",
       " ['audSpec_Rfilt_sma[25]_risetime'],\n",
       " ['pcm_fftMag_fband1000-4000_sma_range'],\n",
       " ['pcm_fftMag_fband1000-4000_sma_quartile3'],\n",
       " ['pcm_fftMag_fband1000-4000_sma_iqr2-3'],\n",
       " ['pcm_fftMag_fband1000-4000_sma_iqr1-3'],\n",
       " ['pcm_fftMag_fband1000-4000_sma_lpc2'],\n",
       " ['pcm_fftMag_spectralRollOff25.0_sma_range'],\n",
       " ['pcm_fftMag_spectralRollOff75.0_sma_maxSegLen'],\n",
       " ['pcm_fftMag_spectralRollOff75.0_sma_leftctime'],\n",
       " ['pcm_fftMag_spectralFlux_sma_quartile1'],\n",
       " ['pcm_fftMag_spectralFlux_sma_quartile2'],\n",
       " ['pcm_fftMag_spectralFlux_sma_stddev'],\n",
       " ['pcm_fftMag_spectralEntropy_sma_upleveltime25'],\n",
       " ['pcm_fftMag_spectralSlope_sma_stddev'],\n",
       " ['pcm_fftMag_spectralSlope_sma_maxSegLen'],\n",
       " ['pcm_fftMag_spectralHarmonicity_sma_range'],\n",
       " ['pcm_fftMag_spectralHarmonicity_sma_stddev'],\n",
       " ['pcm_fftMag_spectralHarmonicity_sma_skewness'],\n",
       " ['pcm_fftMag_spectralHarmonicity_sma_leftctime'],\n",
       " ['mfcc_sma[2]_range'],\n",
       " ['mfcc_sma[2]_upleveltime50'],\n",
       " ['mfcc_sma[3]_percentile99.0'],\n",
       " ['mfcc_sma[4]_quartile1'],\n",
       " ['mfcc_sma[4]_percentile1.0'],\n",
       " ['mfcc_sma[4]_percentile99.0'],\n",
       " ['mfcc_sma[6]_quartile1'],\n",
       " ['mfcc_sma[7]_iqr2-3'],\n",
       " ['mfcc_sma[7]_percentile1.0'],\n",
       " ['mfcc_sma[8]_range'],\n",
       " ['mfcc_sma[8]_percentile99.0'],\n",
       " ['mfcc_sma[9]_quartile3'],\n",
       " ['mfcc_sma[12]_iqr2-3'],\n",
       " ['mfcc_sma[13]_iqr1-2'],\n",
       " ['mfcc_sma[14]_range'],\n",
       " ['mfcc_sma[14]_pctlrange0-1'],\n",
       " ['mfcc_sma[14]_stddev'],\n",
       " ['audSpec_Rfilt_sma_de[1]_segLenStddev'],\n",
       " ['audSpec_Rfilt_sma_de[2]_percentile99.0'],\n",
       " ['audSpec_Rfilt_sma_de[3]_stddev'],\n",
       " ['audSpec_Rfilt_sma_de[3]_skewness'],\n",
       " ['audSpec_Rfilt_sma_de[5]_range'],\n",
       " ['audSpec_Rfilt_sma_de[5]_quartile1'],\n",
       " ['audSpec_Rfilt_sma_de[6]_range'],\n",
       " ['audSpec_Rfilt_sma_de[8]_range'],\n",
       " ['audSpec_Rfilt_sma_de[9]_range'],\n",
       " ['audSpec_Rfilt_sma_de[10]_range'],\n",
       " ['audSpec_Rfilt_sma_de[10]_pctlrange0-1'],\n",
       " ['audSpec_Rfilt_sma_de[11]_range'],\n",
       " ['audSpec_Rfilt_sma_de[11]_stddev'],\n",
       " ['audSpec_Rfilt_sma_de[15]_range'],\n",
       " ['audSpec_Rfilt_sma_de[15]_skewness'],\n",
       " ['audSpec_Rfilt_sma_de[16]_stddev'],\n",
       " ['audSpec_Rfilt_sma_de[17]_range'],\n",
       " ['audSpec_Rfilt_sma_de[18]_stddev'],\n",
       " ['audSpec_Rfilt_sma_de[18]_skewness'],\n",
       " ['audSpec_Rfilt_sma_de[19]_percentile99.0'],\n",
       " ['audSpec_Rfilt_sma_de[19]_kurtosis'],\n",
       " ['audSpec_Rfilt_sma_de[21]_percentile99.0'],\n",
       " ['audSpec_Rfilt_sma_de[21]_maxSegLen'],\n",
       " ['audSpec_Rfilt_sma_de[22]_range'],\n",
       " ['audSpec_Rfilt_sma_de[24]_percentile1.0'],\n",
       " ['audSpec_Rfilt_sma_de[25]_quartile2'],\n",
       " ['audSpec_Rfilt_sma_de[25]_percentile1.0'],\n",
       " ['audSpec_Rfilt_sma_de[25]_pctlrange0-1'],\n",
       " ['pcm_fftMag_fband1000-4000_sma_de_percentile1.0'],\n",
       " ['pcm_fftMag_fband1000-4000_sma_de_percentile99.0'],\n",
       " ['pcm_fftMag_fband1000-4000_sma_de_skewness'],\n",
       " ['pcm_fftMag_spectralRollOff25.0_sma_de_range'],\n",
       " ['pcm_fftMag_spectralRollOff90.0_sma_de_skewness'],\n",
       " ['pcm_fftMag_spectralFlux_sma_de_percentile1.0'],\n",
       " ['pcm_fftMag_spectralFlux_sma_de_pctlrange0-1'],\n",
       " ['pcm_fftMag_spectralVariance_sma_de_upleveltime25'],\n",
       " ['pcm_fftMag_spectralVariance_sma_de_risetime'],\n",
       " ['pcm_fftMag_spectralKurtosis_sma_de_segLenStddev'],\n",
       " ['pcm_fftMag_psySharpness_sma_de_upleveltime25'],\n",
       " ['pcm_fftMag_spectralHarmonicity_sma_de_percentile1.0'],\n",
       " ['mfcc_sma_de[1]_risetime'],\n",
       " ['mfcc_sma_de[2]_stddev'],\n",
       " ['mfcc_sma_de[3]_range'],\n",
       " ['mfcc_sma_de[3]_quartile1'],\n",
       " ['mfcc_sma_de[3]_upleveltime50'],\n",
       " ['mfcc_sma_de[4]_range'],\n",
       " ['mfcc_sma_de[10]_stddev'],\n",
       " ['mfcc_sma_de[12]_quartile3'],\n",
       " ['F0final_sma_quartile1'],\n",
       " ['F0final_sma_quartile2'],\n",
       " ['F0final_sma_iqr1-2'],\n",
       " ['F0final_sma_risetime'],\n",
       " ['voicingFinalUnclipped_sma_de_posamean'],\n",
       " ['voicingFinalUnclipped_sma_de_lpc1'],\n",
       " ['audspec_lengthL1norm_sma_rqmean'],\n",
       " ['audspec_lengthL1norm_sma_peakRangeRel'],\n",
       " ['audspec_lengthL1norm_sma_linregerrQ'],\n",
       " ['pcm_RMSenergy_sma_peakMeanRel'],\n",
       " ['pcm_RMSenergy_sma_linregerrQ'],\n",
       " ['pcm_RMSenergy_sma_qregerrQ'],\n",
       " ['audSpec_Rfilt_sma[0]_peakRangeAbs'],\n",
       " ['audSpec_Rfilt_sma[1]_rqmean'],\n",
       " ['audSpec_Rfilt_sma[3]_stddevFallingSlope'],\n",
       " ['audSpec_Rfilt_sma[5]_peakRangeAbs'],\n",
       " ['audSpec_Rfilt_sma[5]_stddevRisingSlope'],\n",
       " ['audSpec_Rfilt_sma[9]_stddevFallingSlope'],\n",
       " ['audSpec_Rfilt_sma[12]_peakRangeAbs'],\n",
       " ['audSpec_Rfilt_sma[22]_rqmean'],\n",
       " ['audSpec_Rfilt_sma[22]_peakRangeRel'],\n",
       " ['audSpec_Rfilt_sma[24]_peakRangeAbs'],\n",
       " ['audSpec_Rfilt_sma[25]_flatness'],\n",
       " ['audSpec_Rfilt_sma[25]_peakRangeAbs'],\n",
       " ['pcm_fftMag_fband250-650_sma_peakMeanAbs'],\n",
       " ['pcm_fftMag_fband250-650_sma_meanFallingSlope'],\n",
       " ['pcm_fftMag_fband1000-4000_sma_amean'],\n",
       " ['pcm_fftMag_fband1000-4000_sma_peakRangeAbs'],\n",
       " ['pcm_fftMag_fband1000-4000_sma_linregerrQ'],\n",
       " ['pcm_fftMag_spectralRollOff50.0_sma_peakMeanMeanDist'],\n",
       " ['pcm_fftMag_spectralFlux_sma_linregerrQ'],\n",
       " ['pcm_fftMag_spectralHarmonicity_sma_rqmean'],\n",
       " ['pcm_fftMag_spectralHarmonicity_sma_meanRisingSlope'],\n",
       " ['pcm_fftMag_spectralHarmonicity_sma_stddevFallingSlope'],\n",
       " ['mfcc_sma[2]_peakDistStddev'],\n",
       " ['mfcc_sma[2]_peakRangeAbs'],\n",
       " ['mfcc_sma[2]_stddevFallingSlope'],\n",
       " ['mfcc_sma[3]_peakRangeAbs'],\n",
       " ['mfcc_sma[3]_meanFallingSlope'],\n",
       " ['mfcc_sma[4]_peakRangeAbs'],\n",
       " ['mfcc_sma[5]_peakRangeAbs'],\n",
       " ['mfcc_sma[6]_meanPeakDist'],\n",
       " ['mfcc_sma[6]_peakRangeAbs'],\n",
       " ['mfcc_sma[7]_stddevRisingSlope'],\n",
       " ['mfcc_sma[10]_rqmean'],\n",
       " ['mfcc_sma[11]_linregc1'],\n",
       " ['mfcc_sma[12]_meanFallingSlope'],\n",
       " ['mfcc_sma[14]_flatness'],\n",
       " ['mfcc_sma[14]_rqmean'],\n",
       " ['mfcc_sma[14]_meanRisingSlope'],\n",
       " ['mfcc_sma[14]_stddevFallingSlope'],\n",
       " ['audspec_lengthL1norm_sma_de_peakRangeAbs'],\n",
       " ['audspecRasta_lengthL1norm_sma_de_peakRangeRel'],\n",
       " ['pcm_zcr_sma_de_minRangeRel'],\n",
       " ['audSpec_Rfilt_sma_de[3]_rqmean'],\n",
       " ['audSpec_Rfilt_sma_de[5]_meanRisingSlope'],\n",
       " ['audSpec_Rfilt_sma_de[8]_meanRisingSlope'],\n",
       " ['audSpec_Rfilt_sma_de[10]_posamean'],\n",
       " ['audSpec_Rfilt_sma_de[17]_peakDistStddev'],\n",
       " ['audSpec_Rfilt_sma_de[18]_rqmean'],\n",
       " ['pcm_fftMag_fband250-650_sma_de_flatness'],\n",
       " ['pcm_fftMag_fband250-650_sma_de_meanRisingSlope'],\n",
       " ['pcm_fftMag_fband250-650_sma_de_meanFallingSlope'],\n",
       " ['pcm_fftMag_fband1000-4000_sma_de_peakRangeAbs'],\n",
       " ['pcm_fftMag_spectralRollOff75.0_sma_de_minRangeRel'],\n",
       " ['pcm_fftMag_spectralRollOff90.0_sma_de_peakRangeAbs'],\n",
       " ['pcm_fftMag_spectralSlope_sma_de_peakRangeAbs'],\n",
       " ['pcm_fftMag_psySharpness_sma_de_stddevRisingSlope'],\n",
       " ['pcm_fftMag_spectralHarmonicity_sma_de_stddevRisingSlope'],\n",
       " ['mfcc_sma_de[1]_peakRangeRel'],\n",
       " ['mfcc_sma_de[2]_stddevFallingSlope'],\n",
       " ['mfcc_sma_de[5]_flatness'],\n",
       " ['mfcc_sma_de[6]_flatness'],\n",
       " ['mfcc_sma_de[6]_posamean'],\n",
       " ['mfcc_sma_de[6]_peakRangeAbs'],\n",
       " ['mfcc_sma_de[7]_peakRangeAbs'],\n",
       " ['mfcc_sma_de[7]_minRangeRel'],\n",
       " ['mfcc_sma_de[10]_rqmean']]"
      ]
     },
     "execution_count": 19,
     "metadata": {},
     "output_type": "execute_result"
    }
   ],
   "source": [
    "nf = 200\n",
    "\n",
    "#labels = np.tile(labels,(nf,1))\n",
    "#labels = np.transpose(labels)\n",
    "\n",
    "selector = SelectKBest(mutual_info_regression, k=nf)\n",
    "\n",
    "data_new = selector.fit_transform(data, labels)\n",
    "\n",
    "print(data_new.shape)\n",
    "\n",
    "index = selector.get_support(indices=True)\n",
    "\n",
    "selected_features = [your_list[x] for x in index]\n",
    "\n",
    "selected_features"
   ]
  },
  {
   "cell_type": "code",
   "execution_count": null,
   "metadata": {},
   "outputs": [],
   "source": []
  }
 ],
 "metadata": {
  "kernelspec": {
   "display_name": "Python 2",
   "language": "python",
   "name": "python2"
  },
  "language_info": {
   "codemirror_mode": {
    "name": "ipython",
    "version": 2
   },
   "file_extension": ".py",
   "mimetype": "text/x-python",
   "name": "python",
   "nbconvert_exporter": "python",
   "pygments_lexer": "ipython2",
   "version": "2.7.12"
  }
 },
 "nbformat": 4,
 "nbformat_minor": 2
}
