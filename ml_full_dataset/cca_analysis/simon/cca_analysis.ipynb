{
 "cells": [
  {
   "cell_type": "code",
   "execution_count": 1,
   "metadata": {},
   "outputs": [],
   "source": [
    "import csv\n",
    "import numpy as np\n",
    "from sklearn.feature_selection import SelectKBest\n",
    "from sklearn.feature_selection import mutual_info_regression\n",
    "import transposer"
   ]
  },
  {
   "cell_type": "markdown",
   "metadata": {},
   "source": [
    "# Simon Video"
   ]
  },
  {
   "cell_type": "code",
   "execution_count": 2,
   "metadata": {},
   "outputs": [],
   "source": [
    "with open('simon_audio_features.csv', 'rb') as f:\n",
    "    reader = csv.reader(f)\n",
    "    your_list = list(reader)\n",
    "    \n",
    "for i in xrange(0,len(your_list)):\n",
    "    your_list[i] = map(float,your_list[i])\n",
    "data = np.array(your_list)"
   ]
  },
  {
   "cell_type": "code",
   "execution_count": 3,
   "metadata": {},
   "outputs": [
    {
     "name": "stdout",
     "output_type": "stream",
     "text": [
      "(6373, 714)\n",
      "(714, 6373)\n"
     ]
    }
   ],
   "source": [
    "print(data.shape)\n",
    "\n",
    "data = np.transpose(data)\n",
    "\n",
    "print(data.shape)"
   ]
  },
  {
   "cell_type": "code",
   "execution_count": 4,
   "metadata": {},
   "outputs": [
    {
     "name": "stdout",
     "output_type": "stream",
     "text": [
      "(714, 1)\n"
     ]
    }
   ],
   "source": [
    "with open('simon_eyeblink.csv', 'rb') as f:\n",
    "    reader = csv.reader(f)\n",
    "    your_list = list(reader)\n",
    "    \n",
    "for i in xrange(0,len(your_list)):\n",
    "    your_list[i] = map(float,your_list[i])\n",
    "labels = np.array(your_list)\n",
    "\n",
    "#labels = labels.reshape((len(labels),))\n",
    "\n",
    "print(labels.shape)"
   ]
  },
  {
   "cell_type": "code",
   "execution_count": 5,
   "metadata": {},
   "outputs": [
    {
     "name": "stderr",
     "output_type": "stream",
     "text": [
      "/usr/local/lib/python2.7/dist-packages/sklearn/utils/validation.py:578: DataConversionWarning: A column-vector y was passed when a 1d array was expected. Please change the shape of y to (n_samples, ), for example using ravel().\n",
      "  y = column_or_1d(y, warn=True)\n"
     ]
    },
    {
     "name": "stdout",
     "output_type": "stream",
     "text": [
      "(714, 10)\n"
     ]
    }
   ],
   "source": [
    "nf = 10\n",
    "\n",
    "#labels = np.tile(labels,(nf,1))\n",
    "#labels = np.transpose(labels)\n",
    "\n",
    "selector = SelectKBest(mutual_info_regression, k=nf)\n",
    "\n",
    "data_new = selector.fit_transform(data, labels)\n",
    "\n",
    "print(data_new.shape)\n",
    "\n",
    "index = selector.get_support(indices=True)"
   ]
  },
  {
   "cell_type": "code",
   "execution_count": 6,
   "metadata": {},
   "outputs": [
    {
     "name": "stdout",
     "output_type": "stream",
     "text": [
      "6373\n"
     ]
    }
   ],
   "source": [
    "with open('feature_names.csv', 'rb') as f:\n",
    "    reader = csv.reader(f)\n",
    "    your_list = list(reader)\n",
    "    \n",
    "print(len(your_list))"
   ]
  },
  {
   "cell_type": "code",
   "execution_count": 7,
   "metadata": {},
   "outputs": [
    {
     "data": {
      "text/plain": [
       "[['pcm_zcr_sma_percentile99.0'],\n",
       " ['audspec_lengthL1norm_sma_de_range'],\n",
       " ['audSpec_Rfilt_sma[9]_range'],\n",
       " ['audSpec_Rfilt_sma[15]_range'],\n",
       " ['audSpec_Rfilt_sma[16]_pctlrange0-1'],\n",
       " ['pcm_fftMag_spectralRollOff25.0_sma_range'],\n",
       " ['pcm_fftMag_spectralHarmonicity_sma_range'],\n",
       " ['audSpec_Rfilt_sma_de[8]_range'],\n",
       " ['pcm_fftMag_spectralSlope_sma_peakRangeAbs'],\n",
       " ['audspec_lengthL1norm_sma_de_peakRangeAbs']]"
      ]
     },
     "execution_count": 7,
     "metadata": {},
     "output_type": "execute_result"
    }
   ],
   "source": [
    "selected_features = [your_list[x] for x in index]\n",
    "\n",
    "selected_features"
   ]
  },
  {
   "cell_type": "code",
   "execution_count": 40,
   "metadata": {},
   "outputs": [],
   "source": [
    "#subtracting mean\n",
    "data_new -= np.mean(data_new, axis = 0)\n",
    "\n",
    "#dividing by standard deviation\n",
    "data_new /= np.std(data_new, axis = 0)"
   ]
  },
  {
   "cell_type": "code",
   "execution_count": 41,
   "metadata": {},
   "outputs": [
    {
     "data": {
      "text/plain": [
       "(714, 200)"
      ]
     },
     "execution_count": 41,
     "metadata": {},
     "output_type": "execute_result"
    }
   ],
   "source": [
    "filename = 'simon_audio_'+str(nf)+'.csv'\n",
    "\n",
    "np.savetxt(filename, data_new, delimiter=\",\")\n",
    "\n",
    "data_new.shape"
   ]
  },
  {
   "cell_type": "code",
   "execution_count": 8,
   "metadata": {},
   "outputs": [
    {
     "name": "stdout",
     "output_type": "stream",
     "text": [
      "(714, 20)\n"
     ]
    },
    {
     "data": {
      "text/plain": [
       "[['pcm_zcr_sma_percentile99.0'],\n",
       " ['audspec_lengthL1norm_sma_de_range'],\n",
       " ['pcm_RMSenergy_sma_de_range'],\n",
       " ['audSpec_Rfilt_sma[8]_range'],\n",
       " ['audSpec_Rfilt_sma[9]_range'],\n",
       " ['audSpec_Rfilt_sma[15]_range'],\n",
       " ['audSpec_Rfilt_sma[16]_pctlrange0-1'],\n",
       " ['pcm_fftMag_spectralRollOff25.0_sma_range'],\n",
       " ['pcm_fftMag_spectralHarmonicity_sma_range'],\n",
       " ['audSpec_Rfilt_sma_de[6]_range'],\n",
       " ['audSpec_Rfilt_sma_de[8]_range'],\n",
       " ['mfcc_sma_de[2]_percentile1.0'],\n",
       " ['mfcc_sma_de[4]_percentile99.0'],\n",
       " ['pcm_fftMag_fband1000-4000_sma_linregerrQ'],\n",
       " ['pcm_fftMag_fband1000-4000_sma_qregerrQ'],\n",
       " ['pcm_fftMag_spectralRollOff50.0_sma_minRangeRel'],\n",
       " ['pcm_fftMag_spectralSlope_sma_peakRangeAbs'],\n",
       " ['audspec_lengthL1norm_sma_de_peakRangeAbs'],\n",
       " ['audSpec_Rfilt_sma_de[12]_peakRangeAbs'],\n",
       " ['audSpec_Rfilt_sma_de[23]_stddevFallingSlope']]"
      ]
     },
     "execution_count": 8,
     "metadata": {},
     "output_type": "execute_result"
    }
   ],
   "source": [
    "nf = 20\n",
    "\n",
    "#labels = np.tile(labels,(nf,1))\n",
    "#labels = np.transpose(labels)\n",
    "\n",
    "selector = SelectKBest(mutual_info_regression, k=nf)\n",
    "\n",
    "data_new = selector.fit_transform(data, labels)\n",
    "\n",
    "print(data_new.shape)\n",
    "\n",
    "index = selector.get_support(indices=True)\n",
    "\n",
    "selected_features = [your_list[x] for x in index]\n",
    "\n",
    "selected_features"
   ]
  },
  {
   "cell_type": "code",
   "execution_count": 9,
   "metadata": {},
   "outputs": [
    {
     "name": "stdout",
     "output_type": "stream",
     "text": [
      "(714, 50)\n"
     ]
    },
    {
     "data": {
      "text/plain": [
       "[['pcm_zcr_sma_percentile99.0'],\n",
       " ['audspec_lengthL1norm_sma_de_range'],\n",
       " ['pcm_RMSenergy_sma_de_range'],\n",
       " ['audSpec_Rfilt_sma[7]_iqr2-3'],\n",
       " ['audSpec_Rfilt_sma[8]_range'],\n",
       " ['audSpec_Rfilt_sma[9]_range'],\n",
       " ['audSpec_Rfilt_sma[9]_percentile99.0'],\n",
       " ['audSpec_Rfilt_sma[10]_range'],\n",
       " ['audSpec_Rfilt_sma[15]_range'],\n",
       " ['audSpec_Rfilt_sma[16]_percentile99.0'],\n",
       " ['audSpec_Rfilt_sma[16]_pctlrange0-1'],\n",
       " ['audSpec_Rfilt_sma[21]_range'],\n",
       " ['audSpec_Rfilt_sma[22]_range'],\n",
       " ['pcm_fftMag_fband250-650_sma_percentile99.0'],\n",
       " ['pcm_fftMag_fband250-650_sma_pctlrange0-1'],\n",
       " ['pcm_fftMag_spectralRollOff25.0_sma_range'],\n",
       " ['pcm_fftMag_spectralFlux_sma_range'],\n",
       " ['pcm_fftMag_spectralHarmonicity_sma_range'],\n",
       " ['mfcc_sma[10]_percentile1.0'],\n",
       " ['audSpec_Rfilt_sma_de[6]_range'],\n",
       " ['audSpec_Rfilt_sma_de[6]_percentile1.0'],\n",
       " ['audSpec_Rfilt_sma_de[8]_range'],\n",
       " ['audSpec_Rfilt_sma_de[8]_percentile99.0'],\n",
       " ['audSpec_Rfilt_sma_de[15]_range'],\n",
       " ['audSpec_Rfilt_sma_de[25]_range'],\n",
       " ['pcm_fftMag_spectralRollOff75.0_sma_de_range'],\n",
       " ['pcm_fftMag_spectralFlux_sma_de_range'],\n",
       " ['pcm_fftMag_spectralHarmonicity_sma_de_range'],\n",
       " ['mfcc_sma_de[2]_percentile1.0'],\n",
       " ['mfcc_sma_de[4]_percentile99.0'],\n",
       " ['jitterDDP_sma_percentile99.0'],\n",
       " ['jitterDDP_sma_pctlrange0-1'],\n",
       " ['audSpec_Rfilt_sma[0]_peakRangeAbs'],\n",
       " ['audSpec_Rfilt_sma[4]_peakRangeAbs'],\n",
       " ['audSpec_Rfilt_sma[5]_stddevFallingSlope'],\n",
       " ['audSpec_Rfilt_sma[9]_peakRangeAbs'],\n",
       " ['pcm_fftMag_fband1000-4000_sma_peakMeanMeanDist'],\n",
       " ['pcm_fftMag_fband1000-4000_sma_linregerrQ'],\n",
       " ['pcm_fftMag_fband1000-4000_sma_qregerrQ'],\n",
       " ['pcm_fftMag_spectralRollOff50.0_sma_minRangeRel'],\n",
       " ['pcm_fftMag_spectralCentroid_sma_minRangeRel'],\n",
       " ['pcm_fftMag_spectralSlope_sma_peakRangeAbs'],\n",
       " ['pcm_fftMag_spectralHarmonicity_sma_minRangeRel'],\n",
       " ['mfcc_sma[14]_peakRangeAbs'],\n",
       " ['audspec_lengthL1norm_sma_de_peakRangeAbs'],\n",
       " ['audSpec_Rfilt_sma_de[6]_peakRangeRel'],\n",
       " ['audSpec_Rfilt_sma_de[8]_peakRangeAbs'],\n",
       " ['audSpec_Rfilt_sma_de[12]_peakRangeAbs'],\n",
       " ['audSpec_Rfilt_sma_de[23]_stddevFallingSlope'],\n",
       " ['pcm_fftMag_spectralRollOff50.0_sma_de_stddevFallingSlope']]"
      ]
     },
     "execution_count": 9,
     "metadata": {},
     "output_type": "execute_result"
    }
   ],
   "source": [
    "nf = 50\n",
    "\n",
    "#labels = np.tile(labels,(nf,1))\n",
    "#labels = np.transpose(labels)\n",
    "\n",
    "selector = SelectKBest(mutual_info_regression, k=nf)\n",
    "\n",
    "data_new = selector.fit_transform(data, labels)\n",
    "\n",
    "print(data_new.shape)\n",
    "\n",
    "index = selector.get_support(indices=True)\n",
    "\n",
    "selected_features = [your_list[x] for x in index]\n",
    "\n",
    "selected_features"
   ]
  },
  {
   "cell_type": "code",
   "execution_count": 10,
   "metadata": {},
   "outputs": [
    {
     "name": "stdout",
     "output_type": "stream",
     "text": [
      "(714, 100)\n"
     ]
    },
    {
     "data": {
      "text/plain": [
       "[['pcm_zcr_sma_range'],\n",
       " ['pcm_zcr_sma_percentile99.0'],\n",
       " ['audspec_lengthL1norm_sma_de_range'],\n",
       " ['pcm_RMSenergy_sma_de_range'],\n",
       " ['pcm_zcr_sma_de_range'],\n",
       " ['audSpec_Rfilt_sma[6]_range'],\n",
       " ['audSpec_Rfilt_sma[7]_iqr2-3'],\n",
       " ['audSpec_Rfilt_sma[8]_range'],\n",
       " ['audSpec_Rfilt_sma[9]_range'],\n",
       " ['audSpec_Rfilt_sma[9]_percentile99.0'],\n",
       " ['audSpec_Rfilt_sma[9]_pctlrange0-1'],\n",
       " ['audSpec_Rfilt_sma[10]_range'],\n",
       " ['audSpec_Rfilt_sma[12]_percentile99.0'],\n",
       " ['audSpec_Rfilt_sma[12]_pctlrange0-1'],\n",
       " ['audSpec_Rfilt_sma[13]_range'],\n",
       " ['audSpec_Rfilt_sma[13]_percentile99.0'],\n",
       " ['audSpec_Rfilt_sma[15]_range'],\n",
       " ['audSpec_Rfilt_sma[16]_percentile99.0'],\n",
       " ['audSpec_Rfilt_sma[16]_pctlrange0-1'],\n",
       " ['audSpec_Rfilt_sma[19]_range'],\n",
       " ['audSpec_Rfilt_sma[21]_range'],\n",
       " ['audSpec_Rfilt_sma[22]_range'],\n",
       " ['audSpec_Rfilt_sma[23]_range'],\n",
       " ['pcm_fftMag_fband250-650_sma_range'],\n",
       " ['pcm_fftMag_fband250-650_sma_percentile99.0'],\n",
       " ['pcm_fftMag_fband250-650_sma_pctlrange0-1'],\n",
       " ['pcm_fftMag_spectralRollOff25.0_sma_range'],\n",
       " ['pcm_fftMag_spectralRollOff75.0_sma_maxSegLen'],\n",
       " ['pcm_fftMag_spectralFlux_sma_range'],\n",
       " ['pcm_fftMag_spectralVariance_sma_range'],\n",
       " ['pcm_fftMag_spectralSlope_sma_stddev'],\n",
       " ['pcm_fftMag_spectralHarmonicity_sma_range'],\n",
       " ['mfcc_sma[2]_maxSegLen'],\n",
       " ['mfcc_sma[4]_percentile1.0'],\n",
       " ['mfcc_sma[5]_range'],\n",
       " ['mfcc_sma[6]_percentile1.0'],\n",
       " ['mfcc_sma[8]_pctlrange0-1'],\n",
       " ['mfcc_sma[10]_percentile1.0'],\n",
       " ['mfcc_sma[14]_pctlrange0-1'],\n",
       " ['audSpec_Rfilt_sma_de[0]_range'],\n",
       " ['audSpec_Rfilt_sma_de[6]_range'],\n",
       " ['audSpec_Rfilt_sma_de[6]_percentile1.0'],\n",
       " ['audSpec_Rfilt_sma_de[6]_percentile99.0'],\n",
       " ['audSpec_Rfilt_sma_de[8]_range'],\n",
       " ['audSpec_Rfilt_sma_de[8]_percentile99.0'],\n",
       " ['audSpec_Rfilt_sma_de[10]_percentile99.0'],\n",
       " ['audSpec_Rfilt_sma_de[15]_range'],\n",
       " ['audSpec_Rfilt_sma_de[16]_range'],\n",
       " ['audSpec_Rfilt_sma_de[22]_range'],\n",
       " ['audSpec_Rfilt_sma_de[22]_percentile1.0'],\n",
       " ['audSpec_Rfilt_sma_de[22]_percentile99.0'],\n",
       " ['audSpec_Rfilt_sma_de[25]_range'],\n",
       " ['pcm_fftMag_spectralRollOff75.0_sma_de_range'],\n",
       " ['pcm_fftMag_spectralFlux_sma_de_range'],\n",
       " ['pcm_fftMag_spectralFlux_sma_de_percentile1.0'],\n",
       " ['pcm_fftMag_spectralEntropy_sma_de_maxSegLen'],\n",
       " ['pcm_fftMag_spectralHarmonicity_sma_de_range'],\n",
       " ['mfcc_sma_de[2]_range'],\n",
       " ['mfcc_sma_de[2]_percentile1.0'],\n",
       " ['mfcc_sma_de[4]_percentile99.0'],\n",
       " ['mfcc_sma_de[12]_iqr2-3'],\n",
       " ['jitterDDP_sma_percentile99.0'],\n",
       " ['jitterDDP_sma_pctlrange0-1'],\n",
       " ['audspecRasta_lengthL1norm_sma_peakRangeAbs'],\n",
       " ['audSpec_Rfilt_sma[0]_peakRangeAbs'],\n",
       " ['audSpec_Rfilt_sma[4]_peakRangeAbs'],\n",
       " ['audSpec_Rfilt_sma[5]_stddevFallingSlope'],\n",
       " ['audSpec_Rfilt_sma[7]_peakRangeAbs'],\n",
       " ['audSpec_Rfilt_sma[8]_peakRangeAbs'],\n",
       " ['audSpec_Rfilt_sma[9]_flatness'],\n",
       " ['audSpec_Rfilt_sma[9]_peakRangeAbs'],\n",
       " ['audSpec_Rfilt_sma[12]_qregerrQ'],\n",
       " ['audSpec_Rfilt_sma[22]_peakRangeAbs'],\n",
       " ['pcm_fftMag_fband250-650_sma_peakRangeAbs'],\n",
       " ['pcm_fftMag_fband250-650_sma_minRangeRel'],\n",
       " ['pcm_fftMag_fband1000-4000_sma_peakMeanMeanDist'],\n",
       " ['pcm_fftMag_fband1000-4000_sma_stddevRisingSlope'],\n",
       " ['pcm_fftMag_fband1000-4000_sma_linregerrQ'],\n",
       " ['pcm_fftMag_fband1000-4000_sma_qregerrQ'],\n",
       " ['pcm_fftMag_spectralRollOff25.0_sma_minRangeRel'],\n",
       " ['pcm_fftMag_spectralRollOff50.0_sma_minRangeRel'],\n",
       " ['pcm_fftMag_spectralCentroid_sma_minRangeRel'],\n",
       " ['pcm_fftMag_spectralVariance_sma_peakRangeAbs'],\n",
       " ['pcm_fftMag_spectralSlope_sma_peakRangeAbs'],\n",
       " ['pcm_fftMag_spectralHarmonicity_sma_minRangeRel'],\n",
       " ['pcm_fftMag_spectralHarmonicity_sma_stddevFallingSlope'],\n",
       " ['mfcc_sma[14]_peakRangeAbs'],\n",
       " ['audspec_lengthL1norm_sma_de_peakRangeAbs'],\n",
       " ['audSpec_Rfilt_sma_de[6]_peakRangeRel'],\n",
       " ['audSpec_Rfilt_sma_de[8]_peakRangeAbs'],\n",
       " ['audSpec_Rfilt_sma_de[12]_peakRangeAbs'],\n",
       " ['audSpec_Rfilt_sma_de[19]_peakRangeAbs'],\n",
       " ['audSpec_Rfilt_sma_de[23]_stddevFallingSlope'],\n",
       " ['pcm_fftMag_fband250-650_sma_de_peakRangeAbs'],\n",
       " ['pcm_fftMag_spectralRollOff50.0_sma_de_stddevFallingSlope'],\n",
       " ['pcm_fftMag_spectralVariance_sma_de_rqmean'],\n",
       " ['mfcc_sma_de[7]_peakRangeAbs'],\n",
       " ['mfcc_sma_de[7]_peakMeanAbs'],\n",
       " ['mfcc_sma_de[7]_peakMeanMeanDist'],\n",
       " ['mfcc_sma_de[9]_peakDistStddev']]"
      ]
     },
     "execution_count": 10,
     "metadata": {},
     "output_type": "execute_result"
    }
   ],
   "source": [
    "nf = 100\n",
    "\n",
    "#labels = np.tile(labels,(nf,1))\n",
    "#labels = np.transpose(labels)\n",
    "\n",
    "selector = SelectKBest(mutual_info_regression, k=nf)\n",
    "\n",
    "data_new = selector.fit_transform(data, labels)\n",
    "\n",
    "print(data_new.shape)\n",
    "\n",
    "index = selector.get_support(indices=True)\n",
    "\n",
    "selected_features = [your_list[x] for x in index]\n",
    "\n",
    "selected_features"
   ]
  },
  {
   "cell_type": "code",
   "execution_count": 11,
   "metadata": {},
   "outputs": [
    {
     "name": "stdout",
     "output_type": "stream",
     "text": [
      "(714, 200)\n"
     ]
    },
    {
     "data": {
      "text/plain": [
       "[['audspecRasta_lengthL1norm_sma_pctlrange0-1'],\n",
       " ['pcm_RMSenergy_sma_range'],\n",
       " ['pcm_zcr_sma_range'],\n",
       " ['pcm_zcr_sma_percentile99.0'],\n",
       " ['pcm_zcr_sma_pctlrange0-1'],\n",
       " ['audspec_lengthL1norm_sma_de_range'],\n",
       " ['pcm_RMSenergy_sma_de_range'],\n",
       " ['pcm_zcr_sma_de_range'],\n",
       " ['pcm_zcr_sma_de_pctlrange0-1'],\n",
       " ['audSpec_Rfilt_sma[1]_pctlrange0-1'],\n",
       " ['audSpec_Rfilt_sma[3]_range'],\n",
       " ['audSpec_Rfilt_sma[4]_pctlrange0-1'],\n",
       " ['audSpec_Rfilt_sma[4]_upleveltime25'],\n",
       " ['audSpec_Rfilt_sma[6]_range'],\n",
       " ['audSpec_Rfilt_sma[7]_iqr2-3'],\n",
       " ['audSpec_Rfilt_sma[8]_range'],\n",
       " ['audSpec_Rfilt_sma[8]_stddev'],\n",
       " ['audSpec_Rfilt_sma[9]_range'],\n",
       " ['audSpec_Rfilt_sma[9]_percentile99.0'],\n",
       " ['audSpec_Rfilt_sma[9]_pctlrange0-1'],\n",
       " ['audSpec_Rfilt_sma[10]_range'],\n",
       " ['audSpec_Rfilt_sma[12]_range'],\n",
       " ['audSpec_Rfilt_sma[12]_percentile99.0'],\n",
       " ['audSpec_Rfilt_sma[12]_pctlrange0-1'],\n",
       " ['audSpec_Rfilt_sma[13]_range'],\n",
       " ['audSpec_Rfilt_sma[13]_percentile99.0'],\n",
       " ['audSpec_Rfilt_sma[13]_pctlrange0-1'],\n",
       " ['audSpec_Rfilt_sma[15]_range'],\n",
       " ['audSpec_Rfilt_sma[16]_percentile99.0'],\n",
       " ['audSpec_Rfilt_sma[16]_pctlrange0-1'],\n",
       " ['audSpec_Rfilt_sma[19]_range'],\n",
       " ['audSpec_Rfilt_sma[21]_range'],\n",
       " ['audSpec_Rfilt_sma[22]_range'],\n",
       " ['audSpec_Rfilt_sma[22]_lpc0'],\n",
       " ['audSpec_Rfilt_sma[23]_range'],\n",
       " ['audSpec_Rfilt_sma[24]_range'],\n",
       " ['audSpec_Rfilt_sma[24]_pctlrange0-1'],\n",
       " ['pcm_fftMag_fband250-650_sma_range'],\n",
       " ['pcm_fftMag_fband250-650_sma_percentile99.0'],\n",
       " ['pcm_fftMag_fband250-650_sma_pctlrange0-1'],\n",
       " ['pcm_fftMag_fband250-650_sma_stddev'],\n",
       " ['pcm_fftMag_fband1000-4000_sma_percentile99.0'],\n",
       " ['pcm_fftMag_fband1000-4000_sma_pctlrange0-1'],\n",
       " ['pcm_fftMag_fband1000-4000_sma_stddev'],\n",
       " ['pcm_fftMag_fband1000-4000_sma_lpgain'],\n",
       " ['pcm_fftMag_spectralRollOff25.0_sma_range'],\n",
       " ['pcm_fftMag_spectralRollOff25.0_sma_percentile99.0'],\n",
       " ['pcm_fftMag_spectralRollOff75.0_sma_maxSegLen'],\n",
       " ['pcm_fftMag_spectralRollOff90.0_sma_maxSegLen'],\n",
       " ['pcm_fftMag_spectralFlux_sma_range'],\n",
       " ['pcm_fftMag_spectralFlux_sma_percentile99.0'],\n",
       " ['pcm_fftMag_spectralFlux_sma_pctlrange0-1'],\n",
       " ['pcm_fftMag_spectralVariance_sma_range'],\n",
       " ['pcm_fftMag_spectralVariance_sma_percentile99.0'],\n",
       " ['pcm_fftMag_spectralVariance_sma_pctlrange0-1'],\n",
       " ['pcm_fftMag_spectralSkewness_sma_stddev'],\n",
       " ['pcm_fftMag_spectralSlope_sma_stddev'],\n",
       " ['pcm_fftMag_psySharpness_sma_percentile99.0'],\n",
       " ['pcm_fftMag_spectralHarmonicity_sma_range'],\n",
       " ['mfcc_sma[2]_percentile1.0'],\n",
       " ['mfcc_sma[2]_maxSegLen'],\n",
       " ['mfcc_sma[4]_range'],\n",
       " ['mfcc_sma[4]_percentile1.0'],\n",
       " ['mfcc_sma[5]_range'],\n",
       " ['mfcc_sma[5]_percentile1.0'],\n",
       " ['mfcc_sma[5]_upleveltime25'],\n",
       " ['mfcc_sma[6]_percentile1.0'],\n",
       " ['mfcc_sma[7]_percentile1.0'],\n",
       " ['mfcc_sma[8]_range'],\n",
       " ['mfcc_sma[8]_percentile1.0'],\n",
       " ['mfcc_sma[8]_percentile99.0'],\n",
       " ['mfcc_sma[8]_pctlrange0-1'],\n",
       " ['mfcc_sma[10]_percentile1.0'],\n",
       " ['mfcc_sma[11]_percentile99.0'],\n",
       " ['mfcc_sma[12]_percentile1.0'],\n",
       " ['mfcc_sma[12]_percentile99.0'],\n",
       " ['mfcc_sma[12]_stddev'],\n",
       " ['mfcc_sma[14]_pctlrange0-1'],\n",
       " ['audSpec_Rfilt_sma_de[0]_range'],\n",
       " ['audSpec_Rfilt_sma_de[1]_percentile99.0'],\n",
       " ['audSpec_Rfilt_sma_de[3]_range'],\n",
       " ['audSpec_Rfilt_sma_de[5]_percentile1.0'],\n",
       " ['audSpec_Rfilt_sma_de[5]_pctlrange0-1'],\n",
       " ['audSpec_Rfilt_sma_de[6]_range'],\n",
       " ['audSpec_Rfilt_sma_de[6]_percentile1.0'],\n",
       " ['audSpec_Rfilt_sma_de[6]_percentile99.0'],\n",
       " ['audSpec_Rfilt_sma_de[7]_range'],\n",
       " ['audSpec_Rfilt_sma_de[8]_range'],\n",
       " ['audSpec_Rfilt_sma_de[8]_percentile99.0'],\n",
       " ['audSpec_Rfilt_sma_de[9]_range'],\n",
       " ['audSpec_Rfilt_sma_de[10]_percentile99.0'],\n",
       " ['audSpec_Rfilt_sma_de[14]_pctlrange0-1'],\n",
       " ['audSpec_Rfilt_sma_de[15]_range'],\n",
       " ['audSpec_Rfilt_sma_de[15]_percentile1.0'],\n",
       " ['audSpec_Rfilt_sma_de[16]_range'],\n",
       " ['audSpec_Rfilt_sma_de[19]_upleveltime50'],\n",
       " ['audSpec_Rfilt_sma_de[22]_range'],\n",
       " ['audSpec_Rfilt_sma_de[22]_percentile1.0'],\n",
       " ['audSpec_Rfilt_sma_de[22]_percentile99.0'],\n",
       " ['audSpec_Rfilt_sma_de[22]_stddev'],\n",
       " ['audSpec_Rfilt_sma_de[24]_stddev'],\n",
       " ['audSpec_Rfilt_sma_de[25]_range'],\n",
       " ['audSpec_Rfilt_sma_de[25]_upleveltime50'],\n",
       " ['pcm_fftMag_fband250-650_sma_de_range'],\n",
       " ['pcm_fftMag_fband1000-4000_sma_de_range'],\n",
       " ['pcm_fftMag_fband1000-4000_sma_de_pctlrange0-1'],\n",
       " ['pcm_fftMag_fband1000-4000_sma_de_stddev'],\n",
       " ['pcm_fftMag_spectralRollOff75.0_sma_de_range'],\n",
       " ['pcm_fftMag_spectralRollOff90.0_sma_de_percentile99.0'],\n",
       " ['pcm_fftMag_spectralRollOff90.0_sma_de_pctlrange0-1'],\n",
       " ['pcm_fftMag_spectralFlux_sma_de_range'],\n",
       " ['pcm_fftMag_spectralFlux_sma_de_percentile1.0'],\n",
       " ['pcm_fftMag_spectralCentroid_sma_de_percentile1.0'],\n",
       " ['pcm_fftMag_spectralEntropy_sma_de_maxSegLen'],\n",
       " ['pcm_fftMag_spectralSlope_sma_de_percentile1.0'],\n",
       " ['pcm_fftMag_psySharpness_sma_de_pctlrange0-1'],\n",
       " ['pcm_fftMag_spectralHarmonicity_sma_de_range'],\n",
       " ['mfcc_sma_de[2]_range'],\n",
       " ['mfcc_sma_de[2]_percentile1.0'],\n",
       " ['mfcc_sma_de[4]_range'],\n",
       " ['mfcc_sma_de[4]_percentile99.0'],\n",
       " ['mfcc_sma_de[9]_percentile1.0'],\n",
       " ['mfcc_sma_de[10]_percentile1.0'],\n",
       " ['mfcc_sma_de[12]_iqr2-3'],\n",
       " ['mfcc_sma_de[13]_range'],\n",
       " ['jitterDDP_sma_range'],\n",
       " ['jitterDDP_sma_percentile99.0'],\n",
       " ['jitterDDP_sma_pctlrange0-1'],\n",
       " ['audspecRasta_lengthL1norm_sma_peakRangeAbs'],\n",
       " ['audSpec_Rfilt_sma[0]_peakRangeAbs'],\n",
       " ['audSpec_Rfilt_sma[4]_peakRangeAbs'],\n",
       " ['audSpec_Rfilt_sma[5]_stddevFallingSlope'],\n",
       " ['audSpec_Rfilt_sma[6]_peakRangeAbs'],\n",
       " ['audSpec_Rfilt_sma[7]_peakRangeAbs'],\n",
       " ['audSpec_Rfilt_sma[8]_peakRangeAbs'],\n",
       " ['audSpec_Rfilt_sma[8]_qregerrQ'],\n",
       " ['audSpec_Rfilt_sma[9]_flatness'],\n",
       " ['audSpec_Rfilt_sma[9]_peakRangeAbs'],\n",
       " ['audSpec_Rfilt_sma[12]_qregerrQ'],\n",
       " ['audSpec_Rfilt_sma[20]_peakRangeAbs'],\n",
       " ['audSpec_Rfilt_sma[21]_peakMeanAbs'],\n",
       " ['audSpec_Rfilt_sma[22]_peakRangeAbs'],\n",
       " ['audSpec_Rfilt_sma[22]_peakMeanAbs'],\n",
       " ['audSpec_Rfilt_sma[23]_minRangeRel'],\n",
       " ['audSpec_Rfilt_sma[24]_peakRangeAbs'],\n",
       " ['audSpec_Rfilt_sma[25]_minRangeRel'],\n",
       " ['pcm_fftMag_fband250-650_sma_peakRangeAbs'],\n",
       " ['pcm_fftMag_fband250-650_sma_minRangeRel'],\n",
       " ['pcm_fftMag_fband250-650_sma_stddevFallingSlope'],\n",
       " ['pcm_fftMag_fband1000-4000_sma_peakRangeAbs'],\n",
       " ['pcm_fftMag_fband1000-4000_sma_peakMeanAbs'],\n",
       " ['pcm_fftMag_fband1000-4000_sma_peakMeanMeanDist'],\n",
       " ['pcm_fftMag_fband1000-4000_sma_stddevRisingSlope'],\n",
       " ['pcm_fftMag_fband1000-4000_sma_linregerrQ'],\n",
       " ['pcm_fftMag_fband1000-4000_sma_qregerrQ'],\n",
       " ['pcm_fftMag_spectralRollOff25.0_sma_amean'],\n",
       " ['pcm_fftMag_spectralRollOff25.0_sma_peakRangeAbs'],\n",
       " ['pcm_fftMag_spectralRollOff25.0_sma_minRangeRel'],\n",
       " ['pcm_fftMag_spectralRollOff50.0_sma_minRangeRel'],\n",
       " ['pcm_fftMag_spectralCentroid_sma_minRangeRel'],\n",
       " ['pcm_fftMag_spectralVariance_sma_peakRangeAbs'],\n",
       " ['pcm_fftMag_spectralSlope_sma_peakRangeAbs'],\n",
       " ['pcm_fftMag_spectralSlope_sma_qregerrQ'],\n",
       " ['pcm_fftMag_psySharpness_sma_stddevRisingSlope'],\n",
       " ['pcm_fftMag_spectralHarmonicity_sma_minRangeRel'],\n",
       " ['pcm_fftMag_spectralHarmonicity_sma_stddevFallingSlope'],\n",
       " ['mfcc_sma[4]_peakMeanAbs'],\n",
       " ['mfcc_sma[5]_meanRisingSlope'],\n",
       " ['mfcc_sma[7]_linregc2'],\n",
       " ['mfcc_sma[14]_peakRangeAbs'],\n",
       " ['audspec_lengthL1norm_sma_de_posamean'],\n",
       " ['audspec_lengthL1norm_sma_de_peakRangeAbs'],\n",
       " ['audspecRasta_lengthL1norm_sma_de_minRangeRel'],\n",
       " ['audSpec_Rfilt_sma_de[5]_stddevRisingSlope'],\n",
       " ['audSpec_Rfilt_sma_de[6]_rqmean'],\n",
       " ['audSpec_Rfilt_sma_de[6]_peakRangeRel'],\n",
       " ['audSpec_Rfilt_sma_de[6]_stddevRisingSlope'],\n",
       " ['audSpec_Rfilt_sma_de[8]_peakRangeAbs'],\n",
       " ['audSpec_Rfilt_sma_de[12]_peakRangeAbs'],\n",
       " ['audSpec_Rfilt_sma_de[13]_minRangeRel'],\n",
       " ['audSpec_Rfilt_sma_de[19]_peakRangeAbs'],\n",
       " ['audSpec_Rfilt_sma_de[21]_stddevRisingSlope'],\n",
       " ['audSpec_Rfilt_sma_de[22]_meanRisingSlope'],\n",
       " ['audSpec_Rfilt_sma_de[22]_stddevFallingSlope'],\n",
       " ['audSpec_Rfilt_sma_de[23]_peakRangeAbs'],\n",
       " ['audSpec_Rfilt_sma_de[23]_stddevFallingSlope'],\n",
       " ['pcm_fftMag_fband250-650_sma_de_peakRangeAbs'],\n",
       " ['pcm_fftMag_fband1000-4000_sma_de_rqmean'],\n",
       " ['pcm_fftMag_spectralRollOff50.0_sma_de_stddevFallingSlope'],\n",
       " ['pcm_fftMag_spectralEntropy_sma_de_peakRangeAbs'],\n",
       " ['pcm_fftMag_spectralVariance_sma_de_flatness'],\n",
       " ['pcm_fftMag_spectralVariance_sma_de_rqmean'],\n",
       " ['pcm_fftMag_psySharpness_sma_de_rqmean'],\n",
       " ['pcm_fftMag_spectralHarmonicity_sma_de_meanRisingSlope'],\n",
       " ['mfcc_sma_de[2]_peakMeanMeanDist'],\n",
       " ['mfcc_sma_de[4]_peakMeanMeanDist'],\n",
       " ['mfcc_sma_de[7]_peakRangeAbs'],\n",
       " ['mfcc_sma_de[7]_peakMeanAbs'],\n",
       " ['mfcc_sma_de[7]_peakMeanMeanDist'],\n",
       " ['mfcc_sma_de[9]_peakDistStddev']]"
      ]
     },
     "execution_count": 11,
     "metadata": {},
     "output_type": "execute_result"
    }
   ],
   "source": [
    "nf = 200\n",
    "\n",
    "#labels = np.tile(labels,(nf,1))\n",
    "#labels = np.transpose(labels)\n",
    "\n",
    "selector = SelectKBest(mutual_info_regression, k=nf)\n",
    "\n",
    "data_new = selector.fit_transform(data, labels)\n",
    "\n",
    "print(data_new.shape)\n",
    "\n",
    "index = selector.get_support(indices=True)\n",
    "\n",
    "selected_features = [your_list[x] for x in index]\n",
    "\n",
    "selected_features"
   ]
  },
  {
   "cell_type": "code",
   "execution_count": null,
   "metadata": {},
   "outputs": [],
   "source": []
  }
 ],
 "metadata": {
  "kernelspec": {
   "display_name": "Python 2",
   "language": "python",
   "name": "python2"
  },
  "language_info": {
   "codemirror_mode": {
    "name": "ipython",
    "version": 2
   },
   "file_extension": ".py",
   "mimetype": "text/x-python",
   "name": "python",
   "nbconvert_exporter": "python",
   "pygments_lexer": "ipython2",
   "version": "2.7.12"
  }
 },
 "nbformat": 4,
 "nbformat_minor": 2
}
