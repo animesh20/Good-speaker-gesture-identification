{
 "cells": [
  {
   "cell_type": "code",
   "execution_count": 1,
   "metadata": {},
   "outputs": [],
   "source": [
    "import csv\n",
    "import numpy as np\n",
    "from sklearn.decomposition import PCA\n",
    "import transposer\n",
    "from sklearn.svm import SVR\n",
    "from sklearn.model_selection import train_test_split\n",
    "import matplotlib.pyplot as plt"
   ]
  },
  {
   "cell_type": "markdown",
   "metadata": {},
   "source": [
    "# 10 features"
   ]
  },
  {
   "cell_type": "code",
   "execution_count": 2,
   "metadata": {},
   "outputs": [
    {
     "name": "stdout",
     "output_type": "stream",
     "text": [
      "(620, 10)\n"
     ]
    }
   ],
   "source": [
    "nf = 10\n",
    "\n",
    "filename = 'carol_audio_'+str(nf)+'.csv'\n",
    "\n",
    "with open(filename, 'rb') as f:\n",
    "    reader = csv.reader(f)\n",
    "    your_list = list(reader)\n",
    "    \n",
    "for i in xrange(0,len(your_list)):\n",
    "    your_list[i] = map(float,your_list[i])\n",
    "input_data = np.array(your_list)\n",
    "\n",
    "print(input_data.shape)"
   ]
  },
  {
   "cell_type": "code",
   "execution_count": 3,
   "metadata": {},
   "outputs": [
    {
     "name": "stdout",
     "output_type": "stream",
     "text": [
      "(620, 1)\n"
     ]
    }
   ],
   "source": [
    "with open('carol_eyeblink.csv', 'rb') as f:\n",
    "    reader = csv.reader(f)\n",
    "    your_list = list(reader)\n",
    "    \n",
    "for i in xrange(0,len(your_list)):\n",
    "    your_list[i] = map(float,your_list[i])\n",
    "labels = np.array(your_list)\n",
    "\n",
    "print(labels.shape)"
   ]
  },
  {
   "cell_type": "code",
   "execution_count": 4,
   "metadata": {},
   "outputs": [
    {
     "name": "stdout",
     "output_type": "stream",
     "text": [
      "(558, 10)\n",
      "(62, 10)\n",
      "(558, 1)\n",
      "(62, 1)\n"
     ]
    }
   ],
   "source": [
    "data_train, data_test, labels_train, labels_test = train_test_split(input_data, labels, test_size=0.10, random_state=42)\n",
    "\n",
    "print(data_train.shape)\n",
    "print(data_test.shape)\n",
    "print(labels_train.shape)\n",
    "print(labels_test.shape)"
   ]
  },
  {
   "cell_type": "code",
   "execution_count": 5,
   "metadata": {},
   "outputs": [
    {
     "name": "stdout",
     "output_type": "stream",
     "text": [
      "[ 0.13234893 -0.04459797  0.2176647  -0.08299942  0.04143472]\n",
      "[[ 0.09257547]\n",
      " [-0.48350788]\n",
      " [ 0.1110851 ]\n",
      " [-0.26716916]\n",
      " [ 0.4806224 ]]\n"
     ]
    },
    {
     "name": "stderr",
     "output_type": "stream",
     "text": [
      "/usr/local/lib/python2.7/dist-packages/sklearn/utils/validation.py:578: DataConversionWarning: A column-vector y was passed when a 1d array was expected. Please change the shape of y to (n_samples, ), for example using ravel().\n",
      "  y = column_or_1d(y, warn=True)\n"
     ]
    }
   ],
   "source": [
    "lm = SVR(C=1.0, epsilon=0.2)\n",
    "\n",
    "model = lm.fit(data_train,labels_train)\n",
    "\n",
    "predictions = lm.predict(data_test)\n",
    "\n",
    "print(predictions)[0:5]\n",
    "\n",
    "print(labels_test)[0:5]"
   ]
  },
  {
   "cell_type": "code",
   "execution_count": 6,
   "metadata": {},
   "outputs": [
    {
     "data": {
      "text/plain": [
       "-0.0067773336481000701"
      ]
     },
     "execution_count": 6,
     "metadata": {},
     "output_type": "execute_result"
    }
   ],
   "source": [
    "lm.score(data_test,labels_test)"
   ]
  },
  {
   "cell_type": "code",
   "execution_count": 7,
   "metadata": {},
   "outputs": [],
   "source": [
    "line_up, = plt.plot(labels_test, label='Target values')\n",
    "line_down, = plt.plot(predictions, label='Predicted values')\n",
    "plt.legend(handles=[line_up, line_down])\n",
    "plt.ylabel('measure of eye blinks')\n",
    "plt.xlabel('5 second windows')\n",
    "#plt.show()\n",
    "plt.savefig('svr_carol10.pdf')\n",
    "plt.gcf().clear()"
   ]
  },
  {
   "cell_type": "markdown",
   "metadata": {},
   "source": [
    "# 20 features"
   ]
  },
  {
   "cell_type": "code",
   "execution_count": 8,
   "metadata": {},
   "outputs": [
    {
     "data": {
      "text/plain": [
       "0.085504561776582166"
      ]
     },
     "execution_count": 8,
     "metadata": {},
     "output_type": "execute_result"
    }
   ],
   "source": [
    "nf = 20\n",
    "\n",
    "filename = 'carol_audio_'+str(nf)+'.csv'\n",
    "\n",
    "with open(filename, 'rb') as f:\n",
    "    reader = csv.reader(f)\n",
    "    your_list = list(reader)\n",
    "    \n",
    "for i in xrange(0,len(your_list)):\n",
    "    your_list[i] = map(float,your_list[i])\n",
    "input_data = np.array(your_list)\n",
    "\n",
    "#print(input_data.shape)\n",
    "\n",
    "with open('carol_eyeblink.csv', 'rb') as f:\n",
    "    reader = csv.reader(f)\n",
    "    your_list = list(reader)\n",
    "    \n",
    "for i in xrange(0,len(your_list)):\n",
    "    your_list[i] = map(float,your_list[i])\n",
    "labels = np.array(your_list)\n",
    "\n",
    "#print(labels.shape)\n",
    "\n",
    "data_train, data_test, labels_train, labels_test = train_test_split(input_data, labels, test_size=0.10, random_state=42)\n",
    "\n",
    "#print(data_train.shape)\n",
    "#print(data_test.shape)\n",
    "#print(labels_train.shape)\n",
    "#print(labels_test.shape)\n",
    "\n",
    "lm = SVR(C=1.0, epsilon=0.2)\n",
    "\n",
    "model = lm.fit(data_train,labels_train)\n",
    "\n",
    "predictions = lm.predict(data_test)\n",
    "\n",
    "#print(predictions)[0:5]\n",
    "\n",
    "#print(labels_test)[0:5]\n",
    "\n",
    "lm.score(data_test,labels_test)"
   ]
  },
  {
   "cell_type": "code",
   "execution_count": 9,
   "metadata": {},
   "outputs": [],
   "source": [
    "line_up, = plt.plot(labels_test, label='Target values')\n",
    "line_down, = plt.plot(predictions, label='Predicted values')\n",
    "plt.legend(handles=[line_up, line_down])\n",
    "plt.ylabel('measure of eye blinks')\n",
    "plt.xlabel('5 second windows')\n",
    "#plt.show()\n",
    "plt.savefig('svr_carol20.pdf')\n",
    "plt.gcf().clear()"
   ]
  },
  {
   "cell_type": "markdown",
   "metadata": {},
   "source": [
    "# 50 features"
   ]
  },
  {
   "cell_type": "code",
   "execution_count": 10,
   "metadata": {},
   "outputs": [
    {
     "data": {
      "text/plain": [
       "0.20896174555394989"
      ]
     },
     "execution_count": 10,
     "metadata": {},
     "output_type": "execute_result"
    }
   ],
   "source": [
    "nf = 50\n",
    "\n",
    "filename = 'carol_audio_'+str(nf)+'.csv'\n",
    "\n",
    "with open(filename, 'rb') as f:\n",
    "    reader = csv.reader(f)\n",
    "    your_list = list(reader)\n",
    "    \n",
    "for i in xrange(0,len(your_list)):\n",
    "    your_list[i] = map(float,your_list[i])\n",
    "input_data = np.array(your_list)\n",
    "\n",
    "#print(input_data.shape)\n",
    "\n",
    "with open('carol_eyeblink.csv', 'rb') as f:\n",
    "    reader = csv.reader(f)\n",
    "    your_list = list(reader)\n",
    "    \n",
    "for i in xrange(0,len(your_list)):\n",
    "    your_list[i] = map(float,your_list[i])\n",
    "labels = np.array(your_list)\n",
    "\n",
    "#print(labels.shape)\n",
    "\n",
    "data_train, data_test, labels_train, labels_test = train_test_split(input_data, labels, test_size=0.10, random_state=42)\n",
    "\n",
    "#print(data_train.shape)\n",
    "#print(data_test.shape)\n",
    "#print(labels_train.shape)\n",
    "#print(labels_test.shape)\n",
    "\n",
    "lm = SVR(C=1.0, epsilon=0.2)\n",
    "\n",
    "model = lm.fit(data_train,labels_train)\n",
    "\n",
    "predictions = lm.predict(data_test)\n",
    "\n",
    "#print(predictions)[0:5]\n",
    "\n",
    "#print(labels_test)[0:5]\n",
    "\n",
    "lm.score(data_test,labels_test)"
   ]
  },
  {
   "cell_type": "code",
   "execution_count": 11,
   "metadata": {},
   "outputs": [],
   "source": [
    "line_up, = plt.plot(labels_test, label='Target values')\n",
    "line_down, = plt.plot(predictions, label='Predicted values')\n",
    "plt.legend(handles=[line_up, line_down])\n",
    "plt.ylabel('measure of eye blinks')\n",
    "plt.xlabel('5 second windows')\n",
    "#plt.show()\n",
    "plt.savefig('svr_carol50.pdf')\n",
    "plt.gcf().clear()"
   ]
  },
  {
   "cell_type": "markdown",
   "metadata": {},
   "source": [
    "# 100 features"
   ]
  },
  {
   "cell_type": "code",
   "execution_count": 12,
   "metadata": {},
   "outputs": [
    {
     "data": {
      "text/plain": [
       "0.16317429858591581"
      ]
     },
     "execution_count": 12,
     "metadata": {},
     "output_type": "execute_result"
    }
   ],
   "source": [
    "nf = 100\n",
    "\n",
    "filename = 'carol_audio_'+str(nf)+'.csv'\n",
    "\n",
    "with open(filename, 'rb') as f:\n",
    "    reader = csv.reader(f)\n",
    "    your_list = list(reader)\n",
    "    \n",
    "for i in xrange(0,len(your_list)):\n",
    "    your_list[i] = map(float,your_list[i])\n",
    "input_data = np.array(your_list)\n",
    "\n",
    "#print(input_data.shape)\n",
    "\n",
    "with open('carol_eyeblink.csv', 'rb') as f:\n",
    "    reader = csv.reader(f)\n",
    "    your_list = list(reader)\n",
    "    \n",
    "for i in xrange(0,len(your_list)):\n",
    "    your_list[i] = map(float,your_list[i])\n",
    "labels = np.array(your_list)\n",
    "\n",
    "#print(labels.shape)\n",
    "\n",
    "data_train, data_test, labels_train, labels_test = train_test_split(input_data, labels, test_size=0.10, random_state=42)\n",
    "\n",
    "#print(data_train.shape)\n",
    "#print(data_test.shape)\n",
    "#print(labels_train.shape)\n",
    "#print(labels_test.shape)\n",
    "\n",
    "lm = SVR(C=1.0, epsilon=0.2)\n",
    "\n",
    "model = lm.fit(data_train,labels_train)\n",
    "\n",
    "predictions = lm.predict(data_test)\n",
    "\n",
    "#print(predictions)[0:5]\n",
    "\n",
    "#print(labels_test)[0:5]\n",
    "\n",
    "lm.score(data_test,labels_test)"
   ]
  },
  {
   "cell_type": "code",
   "execution_count": 13,
   "metadata": {},
   "outputs": [],
   "source": [
    "line_up, = plt.plot(labels_test, label='Target values')\n",
    "line_down, = plt.plot(predictions, label='Predicted values')\n",
    "plt.legend(handles=[line_up, line_down])\n",
    "plt.ylabel('measure of eye blinks')\n",
    "plt.xlabel('5 second windows')\n",
    "#plt.show()\n",
    "plt.savefig('svr_carol100.pdf')\n",
    "plt.gcf().clear()"
   ]
  },
  {
   "cell_type": "markdown",
   "metadata": {},
   "source": [
    "# 200 features"
   ]
  },
  {
   "cell_type": "code",
   "execution_count": 14,
   "metadata": {},
   "outputs": [
    {
     "data": {
      "text/plain": [
       "0.24103629080178957"
      ]
     },
     "execution_count": 14,
     "metadata": {},
     "output_type": "execute_result"
    }
   ],
   "source": [
    "nf = 200\n",
    "\n",
    "filename = 'carol_audio_'+str(nf)+'.csv'\n",
    "\n",
    "with open(filename, 'rb') as f:\n",
    "    reader = csv.reader(f)\n",
    "    your_list = list(reader)\n",
    "    \n",
    "for i in xrange(0,len(your_list)):\n",
    "    your_list[i] = map(float,your_list[i])\n",
    "input_data = np.array(your_list)\n",
    "\n",
    "#print(input_data.shape)\n",
    "\n",
    "with open('carol_eyeblink.csv', 'rb') as f:\n",
    "    reader = csv.reader(f)\n",
    "    your_list = list(reader)\n",
    "    \n",
    "for i in xrange(0,len(your_list)):\n",
    "    your_list[i] = map(float,your_list[i])\n",
    "labels = np.array(your_list)\n",
    "\n",
    "#print(labels.shape)\n",
    "\n",
    "data_train, data_test, labels_train, labels_test = train_test_split(input_data, labels, test_size=0.10, random_state=42)\n",
    "\n",
    "#print(data_train.shape)\n",
    "#print(data_test.shape)\n",
    "#print(labels_train.shape)\n",
    "#print(labels_test.shape)\n",
    "\n",
    "lm = SVR(C=1.0, epsilon=0.2)\n",
    "\n",
    "model = lm.fit(data_train,labels_train)\n",
    "\n",
    "predictions = lm.predict(data_test)\n",
    "\n",
    "#print(predictions)[0:5]\n",
    "\n",
    "#print(labels_test)[0:5]\n",
    "\n",
    "#lm.score(data_train,labels_train)\n",
    "\n",
    "lm.score(data_test,labels_test)"
   ]
  },
  {
   "cell_type": "code",
   "execution_count": 15,
   "metadata": {},
   "outputs": [],
   "source": [
    "line_up, = plt.plot(labels_test, label='Target values')\n",
    "line_down, = plt.plot(predictions, label='Predicted values')\n",
    "plt.legend(handles=[line_up, line_down])\n",
    "plt.ylabel('measure of eye blinks')\n",
    "plt.xlabel('5 second windows')\n",
    "#plt.show()\n",
    "plt.savefig('svr_carol200.pdf')\n",
    "plt.gcf().clear()"
   ]
  },
  {
   "cell_type": "code",
   "execution_count": null,
   "metadata": {},
   "outputs": [],
   "source": []
  }
 ],
 "metadata": {
  "kernelspec": {
   "display_name": "Python 2",
   "language": "python",
   "name": "python2"
  },
  "language_info": {
   "codemirror_mode": {
    "name": "ipython",
    "version": 2
   },
   "file_extension": ".py",
   "mimetype": "text/x-python",
   "name": "python",
   "nbconvert_exporter": "python",
   "pygments_lexer": "ipython2",
   "version": "2.7.12"
  }
 },
 "nbformat": 4,
 "nbformat_minor": 2
}
