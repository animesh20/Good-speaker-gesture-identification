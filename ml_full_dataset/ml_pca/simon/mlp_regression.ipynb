{
 "cells": [
  {
   "cell_type": "code",
   "execution_count": 1,
   "metadata": {},
   "outputs": [],
   "source": [
    "import csv\n",
    "import numpy as np\n",
    "from sklearn.decomposition import PCA\n",
    "import transposer\n",
    "from sklearn.neural_network import MLPRegressor\n",
    "from sklearn.model_selection import train_test_split\n",
    "import matplotlib.pyplot as plt"
   ]
  },
  {
   "cell_type": "markdown",
   "metadata": {},
   "source": [
    "# 10 features"
   ]
  },
  {
   "cell_type": "code",
   "execution_count": 2,
   "metadata": {},
   "outputs": [
    {
     "name": "stdout",
     "output_type": "stream",
     "text": [
      "(714, 10)\n"
     ]
    }
   ],
   "source": [
    "nf = 10\n",
    "\n",
    "filename = 'simon_audio_'+str(nf)+'.csv'\n",
    "\n",
    "with open(filename, 'rb') as f:\n",
    "    reader = csv.reader(f)\n",
    "    your_list = list(reader)\n",
    "    \n",
    "for i in xrange(0,len(your_list)):\n",
    "    your_list[i] = map(float,your_list[i])\n",
    "input_data = np.array(your_list)\n",
    "\n",
    "print(input_data.shape)"
   ]
  },
  {
   "cell_type": "code",
   "execution_count": 3,
   "metadata": {},
   "outputs": [
    {
     "name": "stdout",
     "output_type": "stream",
     "text": [
      "(714, 1)\n"
     ]
    }
   ],
   "source": [
    "with open('simon_eyeblink.csv', 'rb') as f:\n",
    "    reader = csv.reader(f)\n",
    "    your_list = list(reader)\n",
    "    \n",
    "for i in xrange(0,len(your_list)):\n",
    "    your_list[i] = map(float,your_list[i])\n",
    "labels = np.array(your_list)\n",
    "\n",
    "print(labels.shape)"
   ]
  },
  {
   "cell_type": "code",
   "execution_count": 4,
   "metadata": {},
   "outputs": [
    {
     "name": "stdout",
     "output_type": "stream",
     "text": [
      "(642, 10)\n",
      "(72, 10)\n",
      "(642, 1)\n",
      "(72, 1)\n"
     ]
    }
   ],
   "source": [
    "data_train, data_test, labels_train, labels_test = train_test_split(input_data, labels, test_size=0.10, random_state=42)\n",
    "\n",
    "print(data_train.shape)\n",
    "print(data_test.shape)\n",
    "print(labels_train.shape)\n",
    "print(labels_test.shape)"
   ]
  },
  {
   "cell_type": "code",
   "execution_count": 5,
   "metadata": {},
   "outputs": [
    {
     "name": "stdout",
     "output_type": "stream",
     "text": [
      "[-0.01967007 -0.01408013 -0.05848055  0.07078357 -0.01433322]\n",
      "[[ 0.45097052]\n",
      " [ 0.06530676]\n",
      " [-0.55672445]\n",
      " [ 0.07241717]\n",
      " [ 0.02488567]]\n"
     ]
    },
    {
     "name": "stderr",
     "output_type": "stream",
     "text": [
      "/usr/local/lib/python2.7/dist-packages/sklearn/neural_network/multilayer_perceptron.py:1306: DataConversionWarning: A column-vector y was passed when a 1d array was expected. Please change the shape of y to (n_samples, ), for example using ravel().\n",
      "  y = column_or_1d(y, warn=True)\n"
     ]
    }
   ],
   "source": [
    "lm = MLPRegressor(hidden_layer_sizes=(500, 100))\n",
    "\n",
    "model = lm.fit(data_train,labels_train)\n",
    "\n",
    "predictions = lm.predict(data_test)\n",
    "\n",
    "print(predictions)[0:5]\n",
    "\n",
    "print(labels_test)[0:5]"
   ]
  },
  {
   "cell_type": "code",
   "execution_count": 6,
   "metadata": {},
   "outputs": [
    {
     "data": {
      "text/plain": [
       "-0.14107209962650158"
      ]
     },
     "execution_count": 6,
     "metadata": {},
     "output_type": "execute_result"
    }
   ],
   "source": [
    "lm.score(data_test,labels_test)"
   ]
  },
  {
   "cell_type": "code",
   "execution_count": 7,
   "metadata": {},
   "outputs": [],
   "source": [
    "line_up, = plt.plot(labels_test, label='Target values')\n",
    "line_down, = plt.plot(predictions, label='Predicted values')\n",
    "plt.legend(handles=[line_up, line_down])\n",
    "plt.ylabel('measure of eye blinks')\n",
    "plt.xlabel('5 second windows')\n",
    "#plt.show()\n",
    "plt.savefig('mlp_simon10.pdf')\n",
    "plt.gcf().clear()"
   ]
  },
  {
   "cell_type": "markdown",
   "metadata": {},
   "source": [
    "# 20 features"
   ]
  },
  {
   "cell_type": "code",
   "execution_count": 8,
   "metadata": {},
   "outputs": [
    {
     "data": {
      "text/plain": [
       "-0.04166213695011356"
      ]
     },
     "execution_count": 8,
     "metadata": {},
     "output_type": "execute_result"
    }
   ],
   "source": [
    "nf = 20\n",
    "\n",
    "filename = 'simon_audio_'+str(nf)+'.csv'\n",
    "\n",
    "with open(filename, 'rb') as f:\n",
    "    reader = csv.reader(f)\n",
    "    your_list = list(reader)\n",
    "    \n",
    "for i in xrange(0,len(your_list)):\n",
    "    your_list[i] = map(float,your_list[i])\n",
    "input_data = np.array(your_list)\n",
    "\n",
    "#print(input_data.shape)\n",
    "\n",
    "with open('simon_eyeblink.csv', 'rb') as f:\n",
    "    reader = csv.reader(f)\n",
    "    your_list = list(reader)\n",
    "    \n",
    "for i in xrange(0,len(your_list)):\n",
    "    your_list[i] = map(float,your_list[i])\n",
    "labels = np.array(your_list)\n",
    "\n",
    "#print(labels.shape)\n",
    "\n",
    "data_train, data_test, labels_train, labels_test = train_test_split(input_data, labels, test_size=0.10, random_state=42)\n",
    "\n",
    "#print(data_train.shape)\n",
    "#print(data_test.shape)\n",
    "#print(labels_train.shape)\n",
    "#print(labels_test.shape)\n",
    "\n",
    "lm = MLPRegressor(hidden_layer_sizes=(500, 100))\n",
    "\n",
    "model = lm.fit(data_train,labels_train)\n",
    "\n",
    "predictions = lm.predict(data_test)\n",
    "\n",
    "#print(predictions)[0:5]\n",
    "\n",
    "#print(labels_test)[0:5]\n",
    "\n",
    "lm.score(data_test,labels_test)"
   ]
  },
  {
   "cell_type": "code",
   "execution_count": 9,
   "metadata": {},
   "outputs": [],
   "source": [
    "line_up, = plt.plot(labels_test, label='Target values')\n",
    "line_down, = plt.plot(predictions, label='Predicted values')\n",
    "plt.legend(handles=[line_up, line_down])\n",
    "plt.ylabel('measure of eye blinks')\n",
    "plt.xlabel('5 second windows')\n",
    "#plt.show()\n",
    "plt.savefig('mlp_simon20.pdf')\n",
    "plt.gcf().clear()"
   ]
  },
  {
   "cell_type": "markdown",
   "metadata": {},
   "source": [
    "# 50 features"
   ]
  },
  {
   "cell_type": "code",
   "execution_count": 10,
   "metadata": {},
   "outputs": [
    {
     "data": {
      "text/plain": [
       "0.15570611973934312"
      ]
     },
     "execution_count": 10,
     "metadata": {},
     "output_type": "execute_result"
    }
   ],
   "source": [
    "nf = 50\n",
    "\n",
    "filename = 'simon_audio_'+str(nf)+'.csv'\n",
    "\n",
    "with open(filename, 'rb') as f:\n",
    "    reader = csv.reader(f)\n",
    "    your_list = list(reader)\n",
    "    \n",
    "for i in xrange(0,len(your_list)):\n",
    "    your_list[i] = map(float,your_list[i])\n",
    "input_data = np.array(your_list)\n",
    "\n",
    "#print(input_data.shape)\n",
    "\n",
    "with open('simon_eyeblink.csv', 'rb') as f:\n",
    "    reader = csv.reader(f)\n",
    "    your_list = list(reader)\n",
    "    \n",
    "for i in xrange(0,len(your_list)):\n",
    "    your_list[i] = map(float,your_list[i])\n",
    "labels = np.array(your_list)\n",
    "\n",
    "#print(labels.shape)\n",
    "\n",
    "data_train, data_test, labels_train, labels_test = train_test_split(input_data, labels, test_size=0.10, random_state=42)\n",
    "\n",
    "#print(data_train.shape)\n",
    "#print(data_test.shape)\n",
    "#print(labels_train.shape)\n",
    "#print(labels_test.shape)\n",
    "\n",
    "lm = MLPRegressor(hidden_layer_sizes=(500, 100))\n",
    "\n",
    "model = lm.fit(data_train,labels_train)\n",
    "\n",
    "predictions = lm.predict(data_test)\n",
    "\n",
    "#print(predictions)[0:5]\n",
    "\n",
    "#print(labels_test)[0:5]\n",
    "\n",
    "lm.score(data_test,labels_test)"
   ]
  },
  {
   "cell_type": "code",
   "execution_count": 11,
   "metadata": {},
   "outputs": [],
   "source": [
    "line_up, = plt.plot(labels_test, label='Target values')\n",
    "line_down, = plt.plot(predictions, label='Predicted values')\n",
    "plt.legend(handles=[line_up, line_down])\n",
    "plt.ylabel('measure of eye blinks')\n",
    "plt.xlabel('5 second windows')\n",
    "#plt.show()\n",
    "plt.savefig('mlp_simon50.pdf')\n",
    "plt.gcf().clear()"
   ]
  },
  {
   "cell_type": "markdown",
   "metadata": {},
   "source": [
    "# 100 features"
   ]
  },
  {
   "cell_type": "code",
   "execution_count": 12,
   "metadata": {},
   "outputs": [
    {
     "data": {
      "text/plain": [
       "0.24169545214990429"
      ]
     },
     "execution_count": 12,
     "metadata": {},
     "output_type": "execute_result"
    }
   ],
   "source": [
    "nf = 100\n",
    "\n",
    "filename = 'simon_audio_'+str(nf)+'.csv'\n",
    "\n",
    "with open(filename, 'rb') as f:\n",
    "    reader = csv.reader(f)\n",
    "    your_list = list(reader)\n",
    "    \n",
    "for i in xrange(0,len(your_list)):\n",
    "    your_list[i] = map(float,your_list[i])\n",
    "input_data = np.array(your_list)\n",
    "\n",
    "#print(input_data.shape)\n",
    "\n",
    "with open('simon_eyeblink.csv', 'rb') as f:\n",
    "    reader = csv.reader(f)\n",
    "    your_list = list(reader)\n",
    "    \n",
    "for i in xrange(0,len(your_list)):\n",
    "    your_list[i] = map(float,your_list[i])\n",
    "labels = np.array(your_list)\n",
    "\n",
    "#print(labels.shape)\n",
    "\n",
    "data_train, data_test, labels_train, labels_test = train_test_split(input_data, labels, test_size=0.10, random_state=42)\n",
    "\n",
    "#print(data_train.shape)\n",
    "#print(data_test.shape)\n",
    "#print(labels_train.shape)\n",
    "#print(labels_test.shape)\n",
    "\n",
    "lm = MLPRegressor(hidden_layer_sizes=(500, 100))\n",
    "\n",
    "model = lm.fit(data_train,labels_train)\n",
    "\n",
    "predictions = lm.predict(data_test)\n",
    "\n",
    "#print(predictions)[0:5]\n",
    "\n",
    "#print(labels_test)[0:5]\n",
    "\n",
    "lm.score(data_test,labels_test)"
   ]
  },
  {
   "cell_type": "code",
   "execution_count": 13,
   "metadata": {},
   "outputs": [],
   "source": [
    "line_up, = plt.plot(labels_test, label='Target values')\n",
    "line_down, = plt.plot(predictions, label='Predicted values')\n",
    "plt.legend(handles=[line_up, line_down])\n",
    "plt.ylabel('measure of eye blinks')\n",
    "plt.xlabel('5 second windows')\n",
    "#plt.show()\n",
    "plt.savefig('mlp_simon100.pdf')\n",
    "plt.gcf().clear()"
   ]
  },
  {
   "cell_type": "markdown",
   "metadata": {},
   "source": [
    "# 200 features"
   ]
  },
  {
   "cell_type": "code",
   "execution_count": 14,
   "metadata": {},
   "outputs": [
    {
     "data": {
      "text/plain": [
       "-0.32014615105214994"
      ]
     },
     "execution_count": 14,
     "metadata": {},
     "output_type": "execute_result"
    }
   ],
   "source": [
    "nf = 200\n",
    "\n",
    "filename = 'simon_audio_'+str(nf)+'.csv'\n",
    "\n",
    "with open(filename, 'rb') as f:\n",
    "    reader = csv.reader(f)\n",
    "    your_list = list(reader)\n",
    "    \n",
    "for i in xrange(0,len(your_list)):\n",
    "    your_list[i] = map(float,your_list[i])\n",
    "input_data = np.array(your_list)\n",
    "\n",
    "#print(input_data.shape)\n",
    "\n",
    "with open('simon_eyeblink.csv', 'rb') as f:\n",
    "    reader = csv.reader(f)\n",
    "    your_list = list(reader)\n",
    "    \n",
    "for i in xrange(0,len(your_list)):\n",
    "    your_list[i] = map(float,your_list[i])\n",
    "labels = np.array(your_list)\n",
    "\n",
    "#print(labels.shape)\n",
    "\n",
    "data_train, data_test, labels_train, labels_test = train_test_split(input_data, labels, test_size=0.10, random_state=42)\n",
    "\n",
    "#print(data_train.shape)\n",
    "#print(data_test.shape)\n",
    "#print(labels_train.shape)\n",
    "#print(labels_test.shape)\n",
    "\n",
    "lm = MLPRegressor(hidden_layer_sizes=(500, 100))\n",
    "\n",
    "model = lm.fit(data_train,labels_train)\n",
    "\n",
    "predictions = lm.predict(data_test)\n",
    "\n",
    "#print(predictions)[0:5]\n",
    "\n",
    "#print(labels_test)[0:5]\n",
    "\n",
    "lm.score(data_test,labels_test)"
   ]
  },
  {
   "cell_type": "code",
   "execution_count": 15,
   "metadata": {},
   "outputs": [],
   "source": [
    "line_up, = plt.plot(labels_test, label='Target values')\n",
    "line_down, = plt.plot(predictions, label='Predicted values')\n",
    "plt.legend(handles=[line_up, line_down])\n",
    "plt.ylabel('measure of eye blinks')\n",
    "plt.xlabel('5 second windows')\n",
    "#plt.show()\n",
    "plt.savefig('mlp_simon200.pdf')\n",
    "plt.gcf().clear()"
   ]
  },
  {
   "cell_type": "code",
   "execution_count": null,
   "metadata": {},
   "outputs": [],
   "source": []
  }
 ],
 "metadata": {
  "kernelspec": {
   "display_name": "Python 2",
   "language": "python",
   "name": "python2"
  },
  "language_info": {
   "codemirror_mode": {
    "name": "ipython",
    "version": 2
   },
   "file_extension": ".py",
   "mimetype": "text/x-python",
   "name": "python",
   "nbconvert_exporter": "python",
   "pygments_lexer": "ipython2",
   "version": "2.7.12"
  }
 },
 "nbformat": 4,
 "nbformat_minor": 2
}
